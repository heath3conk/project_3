{
 "cells": [
  {
   "cell_type": "markdown",
   "metadata": {},
   "source": [
    "# Pipelines & grid search to find \"best\" model\n",
    "- Note: I'm skipping some of the exploratory steps in this notebook to focus instead on the pipelines & grid search check out the [EDA notebook](EDA.ipynb) for process on cleaning steps, initial trial & error on stop words, etc."
   ]
  },
  {
   "cell_type": "code",
   "execution_count": 82,
   "metadata": {},
   "outputs": [],
   "source": [
    "import pickle\n",
    "import pprint\n",
    "import re\n",
    "\n",
    "import pandas as pd \n",
    "import numpy as np \n",
    "import matplotlib.pyplot as plt\n",
    "import seaborn as sns \n",
    "from sklearn.model_selection import train_test_split, GridSearchCV\n",
    "from sklearn.pipeline import Pipeline\n",
    "from sklearn.naive_bayes import MultinomialNB, GaussianNB\n",
    "from sklearn.linear_model import LogisticRegression\n",
    "from sklearn.metrics import confusion_matrix, ConfusionMatrixDisplay, balanced_accuracy_score, roc_curve, roc_auc_score, f1_score\n",
    "from sklearn.feature_extraction.text import CountVectorizer, TfidfVectorizer\n",
    "from sklearn.ensemble import RandomForestClassifier\n",
    "from imblearn.pipeline import make_pipeline\n",
    "from imblearn.over_sampling import RandomOverSampler, ADASYN\n",
    "\n",
    "import modeling_reporting"
   ]
  },
  {
   "cell_type": "markdown",
   "metadata": {},
   "source": [
    "## Read & clean data\n",
    "- cleaning:\n",
    "    - fill any missing `selftext` with the `title` from that post\n",
    "    - remove the handful rows that were extracted oddly"
   ]
  },
  {
   "cell_type": "code",
   "execution_count": 2,
   "metadata": {},
   "outputs": [],
   "source": [
    "posts = pd.read_csv(\"data/raw_posts.csv\")\n",
    "\n",
    "# copying \"title\" text into the \"selftext\" column where \"selftext\" is null\n",
    "posts[\"selftext\"] = posts[\"selftext\"].fillna(posts[\"title\"])"
   ]
  },
  {
   "cell_type": "code",
   "execution_count": 3,
   "metadata": {},
   "outputs": [
    {
     "data": {
      "text/plain": [
       "title          1\n",
       "selftext       0\n",
       "subreddit      3\n",
       "created_utc    3\n",
       "name           3\n",
       "type           6\n",
       "dtype: int64"
      ]
     },
     "execution_count": 3,
     "metadata": {},
     "output_type": "execute_result"
    }
   ],
   "source": [
    "posts.isna().sum()"
   ]
  },
  {
   "cell_type": "code",
   "execution_count": 4,
   "metadata": {},
   "outputs": [
    {
     "data": {
      "text/plain": [
       "subreddit\n",
       "AskScienceFiction    0.414044\n",
       "space                0.331027\n",
       "askscience           0.254929\n",
       "Name: proportion, dtype: float64"
      ]
     },
     "execution_count": 4,
     "metadata": {},
     "output_type": "execute_result"
    }
   ],
   "source": [
    "# I know from the EDA notebook that there are a few rows with what looked like UTC timestamps in the \"subreddit\" field\n",
    "#  filtering those out & that should get rid of the nulls in columns other than \"selfext\"\n",
    "posts = posts.loc[posts[\"subreddit\"].isin([\"AskScienceFiction\", \"space\", \"askscience\"])]\n",
    "posts[\"subreddit\"].value_counts(normalize=True)"
   ]
  },
  {
   "cell_type": "code",
   "execution_count": 5,
   "metadata": {},
   "outputs": [
    {
     "data": {
      "text/plain": [
       "title          0\n",
       "selftext       0\n",
       "subreddit      0\n",
       "created_utc    0\n",
       "name           0\n",
       "type           0\n",
       "dtype: int64"
      ]
     },
     "execution_count": 5,
     "metadata": {},
     "output_type": "execute_result"
    }
   ],
   "source": [
    "posts.isna().sum()"
   ]
  },
  {
   "cell_type": "markdown",
   "metadata": {},
   "source": [
    "## Set X & y and split data\n",
    "- Setting \"AskScienceFiction\" as my positive class (41.4% of the data)\n",
    "- \"askscience\" and \"space\" combined = my negative class (58.6% of the data)\n",
    "- baseline is 58.6%"
   ]
  },
  {
   "cell_type": "code",
   "execution_count": 6,
   "metadata": {},
   "outputs": [],
   "source": [
    "posts[\"target\"] = np.where(posts[\"subreddit\"] == \"AskScienceFiction\", 1, 0)\n",
    "X = posts[\"selftext\"]\n",
    "y = posts[\"target\"]\n",
    "\n",
    "X_train, X_test, y_train, y_test = train_test_split(X, y, stratify=y, random_state=42, test_size=0.2)"
   ]
  },
  {
   "cell_type": "markdown",
   "metadata": {},
   "source": [
    "----\n",
    "## Build some pipelines"
   ]
  },
  {
   "cell_type": "code",
   "execution_count": 7,
   "metadata": {},
   "outputs": [],
   "source": [
    "pipe_params = {\n",
    "    \"cvec__stop_words\": [None, modeling_reporting.custom_stops()],\n",
    "    \"cvec__max_features\": [None, 250, 300],\n",
    "    \"cvec__min_df\": [1, 0.01, 0.05],\n",
    "    \"cvec__max_df\": [1.0, 0.98, 0.95, 0.9],\n",
    "    \"cvec__ngram_range\": [(1,1), (1,2), (1,3)],\n",
    "    \"tfidf__stop_words\": [None, modeling_reporting.custom_stops()],\n",
    "    \"tfidf__max_features\": [None, 250, 300],\n",
    "    \"tfidf__min_df\": [1, 0.01, 0.05],\n",
    "    \"tfidf__max_df\": [1.0, 0.98, 0.95, 0.9],\n",
    "    \"tfidf__ngram_range\": [(1,1), (1,2), (1,3)],\n",
    "    \"lr__solver\": [\"lbfgs\", \"liblinear\"],\n",
    "    \"lr__C\": [1.0, 0.1, 10],\n",
    "    \"multi__alpha\": [1.0, 0.5],\n",
    "    \"rfc__n_estimators\": [100, 50, 150],\n",
    "    \"rfc__max_depth\": [None, 5, 10],\n",
    "    \"rfc__min_samples_split\": [2, 5, 7],\n",
    "    \"rfc__min_samples_leaf\": [1, 2, 3],\n",
    "    \"rfc__bootstrap\": [True, False]\n",
    "}"
   ]
  },
  {
   "cell_type": "code",
   "execution_count": 8,
   "metadata": {},
   "outputs": [],
   "source": [
    "# setting up these lists of tuples to pass to my function that generates the GridSearchCV object\n",
    "cvec_pipe_1 = [(\"cvec\", CountVectorizer()), (\"lr\", LogisticRegression(max_iter=1000))]\n",
    "cvec_pipe_2 = [(\"cvec\", CountVectorizer()), (\"multi\", MultinomialNB())]\n",
    "cvec_pipe_3 = [(\"cvec\", CountVectorizer()), (\"rfc\", RandomForestClassifier())]\n",
    "tfidf_pipe_4 = [(\"tfidf\", TfidfVectorizer()), (\"lr\", LogisticRegression(max_iter=1000))]\n",
    "tfidf_pipe_5 = [(\"tfidf\", TfidfVectorizer()), (\"multi\", MultinomialNB())]\n",
    "tfidf_pipe_6 = [(\"tfidf\", TfidfVectorizer()), (\"rfc\", RandomForestClassifier())]"
   ]
  },
  {
   "cell_type": "markdown",
   "metadata": {},
   "source": [
    "## Fit or fetch models\n",
    "- in this section, I've kept the cells where I initially created & fit the grid search but they're commented out\n",
    "- just below each one is the call I used later to pull the pickled pipeline, fit it again & get the model ready for further analysis\n",
    "- the naming convention for all of the models is `gs_{pipe number}` so, for example, wherever there's `{something}_2`, that thing will be connected to the second pipeline, whether is the pipeline itself, the grid search result of the pipeline, the scores for that pipeline, etc."
   ]
  },
  {
   "cell_type": "markdown",
   "metadata": {},
   "source": [
    "#### CountVectorizer & LogisticRegression model"
   ]
  },
  {
   "cell_type": "code",
   "execution_count": null,
   "metadata": {},
   "outputs": [],
   "source": [
    "# use `train_save_best_model` with a pipeilne to fit best model & save as pickle\n",
    "# gs_1 = modeling_reporting.train_save_best_model(cvec_pipe_1, pipe_params, X_train, y_train, \"models/gs_1_model.pkl\")"
   ]
  },
  {
   "cell_type": "code",
   "execution_count": 9,
   "metadata": {},
   "outputs": [
    {
     "name": "stdout",
     "output_type": "stream",
     "text": [
      "train score: 1.0; test score: 0.8963730569948186\n"
     ]
    }
   ],
   "source": [
    "# use `fetch_fitted_pipeline` to fetch previously-fitted pipeline\n",
    "gs_1 = modeling_reporting.fetch_fitted_pipeline(\"models/gs_1_model.pkl\")\n",
    "gs_1.fit(X_train, y_train)\n",
    "print(f\"train score: {gs_1.score(X_train, y_train)}; test score: {gs_1.score(X_test, y_test)}\")"
   ]
  },
  {
   "cell_type": "markdown",
   "metadata": {},
   "source": [
    "#### CountVectorizer & MultinomialNB model"
   ]
  },
  {
   "cell_type": "code",
   "execution_count": 24,
   "metadata": {},
   "outputs": [
    {
     "name": "stdout",
     "output_type": "stream",
     "text": [
      "Fitting 5 folds for each of 432 candidates, totalling 2160 fits\n",
      "saved model to models/gs_2_model.pkl\n"
     ]
    }
   ],
   "source": [
    "# gs_2 = modeling_reporting.train_save_best_model(cvec_pipe_2, pipe_params, X_train, y_train, \"models/gs_2_model.pkl\")"
   ]
  },
  {
   "cell_type": "code",
   "execution_count": 10,
   "metadata": {},
   "outputs": [
    {
     "name": "stdout",
     "output_type": "stream",
     "text": [
      "train score: 0.9783737024221453; test score: 0.8998272884283247\n"
     ]
    }
   ],
   "source": [
    "gs_2 = modeling_reporting.fetch_fitted_pipeline(\"models/gs_2_model.pkl\")\n",
    "gs_2.fit(X_train, y_train)\n",
    "print(f\"train score: {gs_2.score(X_train, y_train)}; test score: {gs_2.score(X_test, y_test)}\")"
   ]
  },
  {
   "cell_type": "markdown",
   "metadata": {},
   "source": [
    "#### CountVectorizer & RandomForestClassifier"
   ]
  },
  {
   "cell_type": "code",
   "execution_count": null,
   "metadata": {},
   "outputs": [],
   "source": [
    "# gs_3 = modeling_reporting.train_save_best_model(cvec_pipe_3, pipe_params, X_train, y_train, \"models/gs_3_model.pkl\")"
   ]
  },
  {
   "cell_type": "code",
   "execution_count": 11,
   "metadata": {},
   "outputs": [
    {
     "name": "stdout",
     "output_type": "stream",
     "text": [
      "train score: 1.0; test score: 0.8739205526770294\n"
     ]
    }
   ],
   "source": [
    "gs_3 = modeling_reporting.fetch_fitted_pipeline(\"models/gs_3_model.pkl\")\n",
    "gs_3.fit(X_train, y_train)\n",
    "print(f\"train score: {gs_3.score(X_train, y_train)}; test score: {gs_3.score(X_test, y_test)}\")"
   ]
  },
  {
   "cell_type": "markdown",
   "metadata": {},
   "source": [
    "#### TfidfVectorizer & LogisticRegression model"
   ]
  },
  {
   "cell_type": "code",
   "execution_count": null,
   "metadata": {},
   "outputs": [],
   "source": [
    "# gs_4 = modeling_reporting.train_save_best_model(tfidf_pipe_4, pipe_params, X_train, y_train, \"models/gs_4_model.pkl\")"
   ]
  },
  {
   "cell_type": "code",
   "execution_count": 12,
   "metadata": {},
   "outputs": [
    {
     "name": "stdout",
     "output_type": "stream",
     "text": [
      "train score: 1.0; test score: 0.9032815198618307\n"
     ]
    }
   ],
   "source": [
    "gs_4 = modeling_reporting.fetch_fitted_pipeline(\"models/gs_4_model.pkl\")\n",
    "gs_4.fit(X_train, y_train)\n",
    "print(f\"train score: {gs_4.score(X_train, y_train)}; test score: {gs_4.score(X_test, y_test)}\")"
   ]
  },
  {
   "cell_type": "markdown",
   "metadata": {},
   "source": [
    "#### TfidfVectorizer & MultinomialNB model"
   ]
  },
  {
   "cell_type": "code",
   "execution_count": 28,
   "metadata": {},
   "outputs": [
    {
     "name": "stdout",
     "output_type": "stream",
     "text": [
      "Fitting 5 folds for each of 432 candidates, totalling 2160 fits\n",
      "saved model to models/gs_5_model.pkl\n"
     ]
    }
   ],
   "source": [
    "# gs_5 = modeling_reporting.train_save_best_model(tfidf_pipe_5, pipe_params, X_train, y_train, \"models/gs_5_model.pkl\")"
   ]
  },
  {
   "cell_type": "code",
   "execution_count": 13,
   "metadata": {},
   "outputs": [
    {
     "name": "stdout",
     "output_type": "stream",
     "text": [
      "train score: 0.9870242214532872; test score: 0.9119170984455959\n"
     ]
    }
   ],
   "source": [
    "gs_5 = modeling_reporting.fetch_fitted_pipeline(\"models/gs_5_model.pkl\")\n",
    "gs_5.fit(X_train, y_train)\n",
    "print(f\"train score: {gs_5.score(X_train, y_train)}; test score: {gs_5.score(X_test, y_test)}\")"
   ]
  },
  {
   "cell_type": "markdown",
   "metadata": {},
   "source": [
    "#### TfidfVectorizer & RandomForestClassifier"
   ]
  },
  {
   "cell_type": "code",
   "execution_count": null,
   "metadata": {},
   "outputs": [],
   "source": [
    "# gs_6 = modeling_reporting.train_save_best_model(tfidf_pipe_6, pipe_params, X_train, y_train, \"models/gs_6_model.pkl\")"
   ]
  },
  {
   "cell_type": "code",
   "execution_count": 14,
   "metadata": {},
   "outputs": [
    {
     "name": "stdout",
     "output_type": "stream",
     "text": [
      "train score: 1.0; test score: 0.8635578583765112\n"
     ]
    }
   ],
   "source": [
    "gs_6 = modeling_reporting.fetch_fitted_pipeline(\"models/gs_6_model.pkl\")\n",
    "gs_6.fit(X_train, y_train)\n",
    "print(f\"train score: {gs_6.score(X_train, y_train)}; test score: {gs_6.score(X_test, y_test)}\")"
   ]
  },
  {
   "cell_type": "markdown",
   "metadata": {},
   "source": [
    "### Collect metrics"
   ]
  },
  {
   "cell_type": "code",
   "execution_count": 15,
   "metadata": {},
   "outputs": [
    {
     "data": {
      "text/html": [
       "<div>\n",
       "<style scoped>\n",
       "    .dataframe tbody tr th:only-of-type {\n",
       "        vertical-align: middle;\n",
       "    }\n",
       "\n",
       "    .dataframe tbody tr th {\n",
       "        vertical-align: top;\n",
       "    }\n",
       "\n",
       "    .dataframe thead th {\n",
       "        text-align: right;\n",
       "    }\n",
       "</style>\n",
       "<table border=\"1\" class=\"dataframe\">\n",
       "  <thead>\n",
       "    <tr style=\"text-align: right;\">\n",
       "      <th></th>\n",
       "      <th>model_name</th>\n",
       "      <th>score_type</th>\n",
       "      <th>score</th>\n",
       "    </tr>\n",
       "  </thead>\n",
       "  <tbody>\n",
       "    <tr>\n",
       "      <th>0</th>\n",
       "      <td>CountVect &amp; LogReg</td>\n",
       "      <td>balanced_accuracy</td>\n",
       "      <td>0.886560</td>\n",
       "    </tr>\n",
       "    <tr>\n",
       "      <th>1</th>\n",
       "      <td>CountVect &amp; LogReg</td>\n",
       "      <td>f1_score</td>\n",
       "      <td>0.868996</td>\n",
       "    </tr>\n",
       "    <tr>\n",
       "      <th>2</th>\n",
       "      <td>CountVect &amp; LogReg</td>\n",
       "      <td>recall</td>\n",
       "      <td>0.829167</td>\n",
       "    </tr>\n",
       "    <tr>\n",
       "      <th>3</th>\n",
       "      <td>CountVect &amp; LogReg</td>\n",
       "      <td>precision</td>\n",
       "      <td>0.912844</td>\n",
       "    </tr>\n",
       "    <tr>\n",
       "      <th>0</th>\n",
       "      <td>CountVect &amp; MultiNB</td>\n",
       "      <td>balanced_accuracy</td>\n",
       "      <td>0.900461</td>\n",
       "    </tr>\n",
       "  </tbody>\n",
       "</table>\n",
       "</div>"
      ],
      "text/plain": [
       "            model_name         score_type     score\n",
       "0   CountVect & LogReg  balanced_accuracy  0.886560\n",
       "1   CountVect & LogReg           f1_score  0.868996\n",
       "2   CountVect & LogReg             recall  0.829167\n",
       "3   CountVect & LogReg          precision  0.912844\n",
       "0  CountVect & MultiNB  balanced_accuracy  0.900461"
      ]
     },
     "execution_count": 15,
     "metadata": {},
     "output_type": "execute_result"
    }
   ],
   "source": [
    "scores_df = pd.DataFrame()\n",
    "model_and_label = [(gs_1, \"CountVect & LogReg\"), (gs_2, \"CountVect & MultiNB\"), (gs_3, \"CountVect & RandForest\"),\n",
    "                   (gs_4, \"TfidfVect & LogReg\"), (gs_5, \"TfidfVect & MultiNB\"), (gs_6, \"TfidfVect & RandForest\")]\n",
    "for model in model_and_label:\n",
    "    scores_df = modeling_reporting.store_metrics(X_test, y_test, scores_df, model[0], model[1])\n",
    "scores_df.head()"
   ]
  },
  {
   "cell_type": "code",
   "execution_count": 16,
   "metadata": {},
   "outputs": [
    {
     "data": {
      "image/png": "[encoded data removed]",
      "text/plain": [
       "<Figure size 783.625x600 with 1 Axes>"
      ]
     },
     "metadata": {},
     "output_type": "display_data"
    }
   ],
   "source": [
    "# thanks to Sonyah for pointing me in the right direction on this chart\n",
    "\n",
    "bars = sns.catplot(\n",
    "    data=scores_df, kind=\"bar\",\n",
    "    x=\"model_name\", y=\"score\", hue=\"score_type\",\n",
    "    errorbar=\"sd\", palette=\"dark\", alpha=.6, height=6\n",
    ")\n",
    "bars.despine(left=True)\n",
    "bars.set_axis_labels(\"\", \"Score\")\n",
    "plt.xticks(rotation=90)\n",
    "bars.legend.set_title(\"Metrics by model\")"
   ]
  },
  {
   "cell_type": "markdown",
   "metadata": {},
   "source": [
    "### Look at `best_params_`"
   ]
  },
  {
   "cell_type": "code",
   "execution_count": 17,
   "metadata": {},
   "outputs": [],
   "source": [
    "params_dict = {}\n",
    "all_params = modeling_reporting.store_params(gs_1, pipe_params, \"CountVect & LogReg\", params_dict)\n",
    "all_params = modeling_reporting.store_params(gs_2, pipe_params, \"CountVect & MultiNB\", params_dict)\n",
    "all_params = modeling_reporting.store_params(gs_3, pipe_params, \"CountVect & RandForest\", params_dict)\n",
    "all_params = modeling_reporting.store_params(gs_4, pipe_params, \"TfidfVect & LogReg\", params_dict)\n",
    "all_params = modeling_reporting.store_params(gs_5, pipe_params, \"TfidfVect & MultiNB\", params_dict)\n",
    "all_params = modeling_reporting.store_params(gs_6, pipe_params, \"TfidfVect & RandForest\", params_dict)"
   ]
  },
  {
   "cell_type": "code",
   "execution_count": 18,
   "metadata": {},
   "outputs": [
    {
     "name": "stdout",
     "output_type": "stream",
     "text": [
      "{'CountVect & LogReg': {'cvec__max_df': 1.0,\n",
      "                        'cvec__max_features': None,\n",
      "                        'cvec__min_df': 1,\n",
      "                        'cvec__ngram_range': (1, 1),\n",
      "                        'cvec__stop_words': None,\n",
      "                        'lr__C': 10,\n",
      "                        'lr__solver': 'lbfgs'},\n",
      " 'CountVect & MultiNB': {'cvec__max_df': 1.0,\n",
      "                         'cvec__max_features': None,\n",
      "                         'cvec__min_df': 1,\n",
      "                         'cvec__ngram_range': (1, 1),\n",
      "                         'cvec__stop_words': None,\n",
      "                         'multi__alpha': 1.0},\n",
      " 'CountVect & RandForest': {'cvec__max_df': 0.9,\n",
      "                            'cvec__max_features': None,\n",
      "                            'cvec__min_df': 1,\n",
      "                            'cvec__ngram_range': (1, 1),\n",
      "                            'cvec__stop_words': None,\n",
      "                            'rfc__bootstrap': False,\n",
      "                            'rfc__max_depth': None,\n",
      "                            'rfc__min_samples_leaf': 1,\n",
      "                            'rfc__min_samples_split': 7,\n",
      "                            'rfc__n_estimators': 150},\n",
      " 'TfidfVect & LogReg': {'lr__C': 10,\n",
      "                        'lr__solver': 'lbfgs',\n",
      "                        'tfidf__max_df': 1.0,\n",
      "                        'tfidf__max_features': None,\n",
      "                        'tfidf__min_df': 1,\n",
      "                        'tfidf__ngram_range': (1, 1),\n",
      "                        'tfidf__stop_words': None},\n",
      " 'TfidfVect & MultiNB': {'multi__alpha': 0.5,\n",
      "                         'tfidf__max_df': 1.0,\n",
      "                         'tfidf__max_features': None,\n",
      "                         'tfidf__min_df': 1,\n",
      "                         'tfidf__ngram_range': (1, 1),\n",
      "                         'tfidf__stop_words': None},\n",
      " 'TfidfVect & RandForest': {'rfc__bootstrap': False,\n",
      "                            'rfc__max_depth': None,\n",
      "                            'rfc__min_samples_leaf': 1,\n",
      "                            'rfc__min_samples_split': 7,\n",
      "                            'rfc__n_estimators': 150,\n",
      "                            'tfidf__max_df': 0.98,\n",
      "                            'tfidf__max_features': None,\n",
      "                            'tfidf__min_df': 1,\n",
      "                            'tfidf__ngram_range': (1, 1),\n",
      "                            'tfidf__stop_words': None}}\n"
     ]
    }
   ],
   "source": [
    "pp = pprint.PrettyPrinter()\n",
    "pp.pprint(all_params)"
   ]
  },
  {
   "cell_type": "markdown",
   "metadata": {},
   "source": [
    "#### TfidfVectorizer, ADASYN oversampler, LogisticRegression model"
   ]
  },
  {
   "cell_type": "code",
   "execution_count": null,
   "metadata": {},
   "outputs": [],
   "source": [
    "# adasyn_pipe_7 = make_pipeline(TfidfVectorizer(), ADASYN(random_state=34), LogisticRegression(max_iter=1000))\n",
    "# adasyn_pipe = {\n",
    "#     \"adasyn__n_neighbors\": [3, 5, 7],\n",
    "#     \"tfidfvectorizer__stop_words\": [None, modeling_reporting.custom_stops()],\n",
    "#     \"tfidfvectorizer__max_features\": [None, 250, 300],\n",
    "#     \"tfidfvectorizer__min_df\": [1, 0.01, 0.05],\n",
    "#     \"tfidfvectorizer__max_df\": [1.0, 0.98, 0.95, 0.9],\n",
    "#     \"tfidfvectorizer__ngram_range\": [(1,1), (1,2), (1,3)],\n",
    "#     \"logisticregression__solver\": [\"lbfgs\", \"liblinear\"],\n",
    "#     \"logisticregression__C\": [1.0, 0.1, 10]\n",
    "#     }\n",
    "\n",
    "# gs_7 = GridSearchCV(adasyn_pipe_7, adasyn_pipe, n_jobs=-1, scoring=\"balanced_accuracy\")\n",
    "# gs_7.fit(X_train, y_train)\n",
    "\n",
    "# with open(\"models/gs_7_model.pkl\", \"wb\") as f:\n",
    "#     pickle.dump(gs_7.best_estimator_, f)"
   ]
  },
  {
   "cell_type": "code",
   "execution_count": 19,
   "metadata": {},
   "outputs": [
    {
     "name": "stdout",
     "output_type": "stream",
     "text": [
      "train score: 0.9991349480968859; test score: 0.9015544041450777\n"
     ]
    }
   ],
   "source": [
    "gs_7 = modeling_reporting.fetch_fitted_pipeline(\"models/gs_7_model.pkl\")\n",
    "gs_7.fit(X_train, y_train)\n",
    "print(f\"train score: {gs_7.score(X_train, y_train)}; test score: {gs_7.score(X_test, y_test)}\")"
   ]
  },
  {
   "cell_type": "code",
   "execution_count": 20,
   "metadata": {},
   "outputs": [
    {
     "data": {
      "text/html": [
       "<div>\n",
       "<style scoped>\n",
       "    .dataframe tbody tr th:only-of-type {\n",
       "        vertical-align: middle;\n",
       "    }\n",
       "\n",
       "    .dataframe tbody tr th {\n",
       "        vertical-align: top;\n",
       "    }\n",
       "\n",
       "    .dataframe thead th {\n",
       "        text-align: right;\n",
       "    }\n",
       "</style>\n",
       "<table border=\"1\" class=\"dataframe\">\n",
       "  <thead>\n",
       "    <tr style=\"text-align: right;\">\n",
       "      <th></th>\n",
       "      <th>model_name</th>\n",
       "      <th>score_type</th>\n",
       "      <th>score</th>\n",
       "    </tr>\n",
       "  </thead>\n",
       "  <tbody>\n",
       "    <tr>\n",
       "      <th>3</th>\n",
       "      <td>TfidfVect &amp; RandForest</td>\n",
       "      <td>precision</td>\n",
       "      <td>0.854626</td>\n",
       "    </tr>\n",
       "    <tr>\n",
       "      <th>0</th>\n",
       "      <td>TfidfVect, ADASYN &amp; LogReg</td>\n",
       "      <td>balanced_accuracy</td>\n",
       "      <td>0.897069</td>\n",
       "    </tr>\n",
       "    <tr>\n",
       "      <th>1</th>\n",
       "      <td>TfidfVect, ADASYN &amp; LogReg</td>\n",
       "      <td>f1_score</td>\n",
       "      <td>0.880000</td>\n",
       "    </tr>\n",
       "    <tr>\n",
       "      <th>2</th>\n",
       "      <td>TfidfVect, ADASYN &amp; LogReg</td>\n",
       "      <td>recall</td>\n",
       "      <td>0.870833</td>\n",
       "    </tr>\n",
       "    <tr>\n",
       "      <th>3</th>\n",
       "      <td>TfidfVect, ADASYN &amp; LogReg</td>\n",
       "      <td>precision</td>\n",
       "      <td>0.889362</td>\n",
       "    </tr>\n",
       "  </tbody>\n",
       "</table>\n",
       "</div>"
      ],
      "text/plain": [
       "                   model_name         score_type     score\n",
       "3      TfidfVect & RandForest          precision  0.854626\n",
       "0  TfidfVect, ADASYN & LogReg  balanced_accuracy  0.897069\n",
       "1  TfidfVect, ADASYN & LogReg           f1_score  0.880000\n",
       "2  TfidfVect, ADASYN & LogReg             recall  0.870833\n",
       "3  TfidfVect, ADASYN & LogReg          precision  0.889362"
      ]
     },
     "execution_count": 20,
     "metadata": {},
     "output_type": "execute_result"
    }
   ],
   "source": [
    "scores_df = modeling_reporting.store_metrics(X_test, y_test, scores_df, gs_7, \"TfidfVect, ADASYN & LogReg\")\n",
    "scores_df.tail()"
   ]
  },
  {
   "cell_type": "code",
   "execution_count": 23,
   "metadata": {},
   "outputs": [
    {
     "name": "stdout",
     "output_type": "stream",
     "text": [
      "Fitting 5 folds for each of 1296 candidates, totalling 6480 fits\n"
     ]
    },
    {
     "name": "stderr",
     "output_type": "stream",
     "text": [
      "/Users/heathercait/anaconda3/envs/ga-lessons/lib/python3.11/site-packages/sklearn/model_selection/_validation.py:378: FitFailedWarning: \n",
      "160 fits failed out of a total of 6480.\n",
      "The score on these train-test partitions for these parameters will be set to nan.\n",
      "If these failures are not expected, you can try to debug them by setting error_score='raise'.\n",
      "\n",
      "Below are more details about the failures:\n",
      "--------------------------------------------------------------------------------\n",
      "160 fits failed with the following error:\n",
      "Traceback (most recent call last):\n",
      "  File \"/Users/heathercait/anaconda3/envs/ga-lessons/lib/python3.11/site-packages/sklearn/model_selection/_validation.py\", line 686, in _fit_and_score\n",
      "    estimator.fit(X_train, y_train, **fit_params)\n",
      "  File \"/Users/heathercait/anaconda3/envs/ga-lessons/lib/python3.11/site-packages/imblearn/utils/fixes.py\", line 85, in wrapper\n",
      "    return fit_method(estimator, *args, **kwargs)\n",
      "           ^^^^^^^^^^^^^^^^^^^^^^^^^^^^^^^^^^^^^^\n",
      "  File \"/Users/heathercait/anaconda3/envs/ga-lessons/lib/python3.11/site-packages/imblearn/pipeline.py\", line 322, in fit\n",
      "    Xt, yt = self._fit(X, y, routed_params)\n",
      "             ^^^^^^^^^^^^^^^^^^^^^^^^^^^^^^\n",
      "  File \"/Users/heathercait/anaconda3/envs/ga-lessons/lib/python3.11/site-packages/imblearn/pipeline.py\", line 258, in _fit\n",
      "    X, y, fitted_transformer = fit_resample_one_cached(\n",
      "                               ^^^^^^^^^^^^^^^^^^^^^^^^\n",
      "  File \"/Users/heathercait/anaconda3/envs/ga-lessons/lib/python3.11/site-packages/joblib/memory.py\", line 349, in __call__\n",
      "    return self.func(*args, **kwargs)\n",
      "           ^^^^^^^^^^^^^^^^^^^^^^^^^^\n",
      "  File \"/Users/heathercait/anaconda3/envs/ga-lessons/lib/python3.11/site-packages/imblearn/pipeline.py\", line 1050, in _fit_resample_one\n",
      "    X_res, y_res = sampler.fit_resample(X, y, **params.get(\"fit_resample\", {}))\n",
      "                   ^^^^^^^^^^^^^^^^^^^^^^^^^^^^^^^^^^^^^^^^^^^^^^^^^^^^^^^^^^^^\n",
      "  File \"/Users/heathercait/anaconda3/envs/ga-lessons/lib/python3.11/site-packages/imblearn/base.py\", line 208, in fit_resample\n",
      "    return super().fit_resample(X, y)\n",
      "           ^^^^^^^^^^^^^^^^^^^^^^^^^^\n",
      "  File \"/Users/heathercait/anaconda3/envs/ga-lessons/lib/python3.11/site-packages/imblearn/base.py\", line 112, in fit_resample\n",
      "    output = self._fit_resample(X, y)\n",
      "             ^^^^^^^^^^^^^^^^^^^^^^^^\n",
      "  File \"/Users/heathercait/anaconda3/envs/ga-lessons/lib/python3.11/site-packages/imblearn/over_sampling/_adasyn.py\", line 195, in _fit_resample\n",
      "    raise ValueError(\n",
      "ValueError: No samples will be generated with the provided ratio settings.\n",
      "\n",
      "  warnings.warn(some_fits_failed_message, FitFailedWarning)\n",
      "/Users/heathercait/anaconda3/envs/ga-lessons/lib/python3.11/site-packages/sklearn/model_selection/_search.py:952: UserWarning: One or more of the test scores are non-finite: [0.82839942 0.82839942 0.78017055 ... 0.76671584 0.76671584 0.76671584]\n",
      "  warnings.warn(\n"
     ]
    },
    {
     "name": "stdout",
     "output_type": "stream",
     "text": [
      "adasyn score on training data: 0.9845474891241481; test data: 0.8841127381514722\n"
     ]
    }
   ],
   "source": [
    "# adasyn_pipe_8 = make_pipeline(TfidfVectorizer(), ADASYN(random_state=34), MultinomialNB())\n",
    "# adasyn_8_params = {\n",
    "#     \"adasyn__n_neighbors\": [3, 5, 7],\n",
    "#     \"tfidfvectorizer__stop_words\": [None, modeling_reporting.custom_stops()],\n",
    "#     \"tfidfvectorizer__max_features\": [None, 250, 300],\n",
    "#     \"tfidfvectorizer__min_df\": [1, 0.01, 0.05],\n",
    "#     \"tfidfvectorizer__max_df\": [1.0, 0.98, 0.95, 0.9],\n",
    "#     \"tfidfvectorizer__ngram_range\": [(1,1), (1,2), (1,3)],\n",
    "#     \"multinomialnb__alpha\": [1.0, 0.5]\n",
    "#     }\n",
    "\n",
    "# gs_8 = GridSearchCV(adasyn_pipe_8, adasyn_8_params, n_jobs=-1, scoring=\"balanced_accuracy\", verbose=1)\n",
    "# gs_8.fit(X_train, y_train)\n",
    "\n",
    "# with open(\"models/gs_8_model.pkl\", \"wb\") as f:\n",
    "#     pickle.dump(gs_8.best_estimator_, f)\n",
    "\n",
    "# print(f\"adasyn score on training data: {gs_8.score(X_train, y_train)}; test data: {gs_8.score(X_test, y_test)}\")"
   ]
  },
  {
   "cell_type": "code",
   "execution_count": 21,
   "metadata": {},
   "outputs": [
    {
     "name": "stdout",
     "output_type": "stream",
     "text": [
      "train score: 0.9788062283737025; test score: 0.8911917098445595\n"
     ]
    }
   ],
   "source": [
    "gs_8 = modeling_reporting.fetch_fitted_pipeline(\"models/gs_8_model.pkl\")\n",
    "gs_8.fit(X_train, y_train)\n",
    "print(f\"train score: {gs_8.score(X_train, y_train)}; test score: {gs_8.score(X_test, y_test)}\")"
   ]
  },
  {
   "cell_type": "code",
   "execution_count": 22,
   "metadata": {},
   "outputs": [
    {
     "data": {
      "text/html": [
       "<div>\n",
       "<style scoped>\n",
       "    .dataframe tbody tr th:only-of-type {\n",
       "        vertical-align: middle;\n",
       "    }\n",
       "\n",
       "    .dataframe tbody tr th {\n",
       "        vertical-align: top;\n",
       "    }\n",
       "\n",
       "    .dataframe thead th {\n",
       "        text-align: right;\n",
       "    }\n",
       "</style>\n",
       "<table border=\"1\" class=\"dataframe\">\n",
       "  <thead>\n",
       "    <tr style=\"text-align: right;\">\n",
       "      <th></th>\n",
       "      <th>model_name</th>\n",
       "      <th>score_type</th>\n",
       "      <th>score</th>\n",
       "    </tr>\n",
       "  </thead>\n",
       "  <tbody>\n",
       "    <tr>\n",
       "      <th>3</th>\n",
       "      <td>TfidfVect, ADASYN &amp; LogReg</td>\n",
       "      <td>precision</td>\n",
       "      <td>0.889362</td>\n",
       "    </tr>\n",
       "    <tr>\n",
       "      <th>0</th>\n",
       "      <td>TfidfVect, ADASYN &amp; MultiNB</td>\n",
       "      <td>balanced_accuracy</td>\n",
       "      <td>0.899779</td>\n",
       "    </tr>\n",
       "    <tr>\n",
       "      <th>1</th>\n",
       "      <td>TfidfVect, ADASYN &amp; MultiNB</td>\n",
       "      <td>f1_score</td>\n",
       "      <td>0.878613</td>\n",
       "    </tr>\n",
       "    <tr>\n",
       "      <th>2</th>\n",
       "      <td>TfidfVect, ADASYN &amp; MultiNB</td>\n",
       "      <td>recall</td>\n",
       "      <td>0.950000</td>\n",
       "    </tr>\n",
       "    <tr>\n",
       "      <th>3</th>\n",
       "      <td>TfidfVect, ADASYN &amp; MultiNB</td>\n",
       "      <td>precision</td>\n",
       "      <td>0.817204</td>\n",
       "    </tr>\n",
       "  </tbody>\n",
       "</table>\n",
       "</div>"
      ],
      "text/plain": [
       "                    model_name         score_type     score\n",
       "3   TfidfVect, ADASYN & LogReg          precision  0.889362\n",
       "0  TfidfVect, ADASYN & MultiNB  balanced_accuracy  0.899779\n",
       "1  TfidfVect, ADASYN & MultiNB           f1_score  0.878613\n",
       "2  TfidfVect, ADASYN & MultiNB             recall  0.950000\n",
       "3  TfidfVect, ADASYN & MultiNB          precision  0.817204"
      ]
     },
     "execution_count": 22,
     "metadata": {},
     "output_type": "execute_result"
    }
   ],
   "source": [
    "scores_df = modeling_reporting.store_metrics(X_test, y_test, scores_df, gs_8, \"TfidfVect, ADASYN & MultiNB\")\n",
    "scores_df.tail()"
   ]
  },
  {
   "cell_type": "code",
   "execution_count": 23,
   "metadata": {},
   "outputs": [
    {
     "name": "stdout",
     "output_type": "stream",
     "text": [
      "GaussinaNB balanced accuracy: 0.8551622418879057\n"
     ]
    }
   ],
   "source": [
    "tfidf_vect = TfidfVectorizer()  # bests scores in GridSearch used defaults so I'm sticking with that\n",
    "X_train_vect = tfidf_vect.fit_transform(X_train)\n",
    "X_test_vect = tfidf_vect.transform(X_test)\n",
    "\n",
    "gs_9 = GaussianNB()\n",
    "gs_9.fit(X_train_vect.toarray(), y_train)\n",
    "\n",
    "preds = gs_9.predict(X_test_vect.toarray())\n",
    "print(f\"GaussinaNB balanced accuracy: {balanced_accuracy_score(y_test, preds)}\")"
   ]
  },
  {
   "cell_type": "code",
   "execution_count": 24,
   "metadata": {},
   "outputs": [],
   "source": [
    "scores_df = modeling_reporting.store_metrics(X_test_vect.toarray(), y_test, scores_df, gs_9, \"TfidfVect & GaussianNB\")"
   ]
  },
  {
   "cell_type": "code",
   "execution_count": 26,
   "metadata": {},
   "outputs": [
    {
     "data": {
      "image/png": "[encoded data removed]",
      "text/plain": [
       "<Figure size 783.625x600 with 1 Axes>"
      ]
     },
     "metadata": {},
     "output_type": "display_data"
    }
   ],
   "source": [
    "bars = sns.catplot(\n",
    "    data=scores_df, kind=\"bar\",\n",
    "    x=\"model_name\", y=\"score\", hue=\"score_type\",\n",
    "    errorbar=\"sd\", palette=\"dark\", alpha=.6, height=6\n",
    ")\n",
    "bars.despine(left=True)\n",
    "bars.set_axis_labels(\"\", \"Score\")\n",
    "plt.xticks(rotation=90)\n",
    "bars.legend.set_title(\"Metrics by model\");"
   ]
  },
  {
   "cell_type": "code",
   "execution_count": 206,
   "metadata": {},
   "outputs": [
    {
     "data": {
      "text/html": [
       "<div>\n",
       "<style scoped>\n",
       "    .dataframe tbody tr th:only-of-type {\n",
       "        vertical-align: middle;\n",
       "    }\n",
       "\n",
       "    .dataframe tbody tr th {\n",
       "        vertical-align: top;\n",
       "    }\n",
       "\n",
       "    .dataframe thead th {\n",
       "        text-align: right;\n",
       "    }\n",
       "</style>\n",
       "<table border=\"1\" class=\"dataframe\">\n",
       "  <thead>\n",
       "    <tr style=\"text-align: right;\">\n",
       "      <th></th>\n",
       "      <th>model_name</th>\n",
       "      <th>score_type</th>\n",
       "      <th>score</th>\n",
       "    </tr>\n",
       "  </thead>\n",
       "  <tbody>\n",
       "    <tr>\n",
       "      <th>0</th>\n",
       "      <td>CountVect &amp; LogReg</td>\n",
       "      <td>balanced_accuracy</td>\n",
       "      <td>0.886560</td>\n",
       "    </tr>\n",
       "    <tr>\n",
       "      <th>0</th>\n",
       "      <td>CountVect &amp; MultiNB</td>\n",
       "      <td>balanced_accuracy</td>\n",
       "      <td>0.900461</td>\n",
       "    </tr>\n",
       "    <tr>\n",
       "      <th>0</th>\n",
       "      <td>CountVect &amp; RandForest</td>\n",
       "      <td>balanced_accuracy</td>\n",
       "      <td>0.865560</td>\n",
       "    </tr>\n",
       "    <tr>\n",
       "      <th>0</th>\n",
       "      <td>TfidfVect &amp; LogReg</td>\n",
       "      <td>balanced_accuracy</td>\n",
       "      <td>0.894285</td>\n",
       "    </tr>\n",
       "    <tr>\n",
       "      <th>0</th>\n",
       "      <td>TfidfVect &amp; MultiNB</td>\n",
       "      <td>balanced_accuracy</td>\n",
       "      <td>0.904701</td>\n",
       "    </tr>\n",
       "    <tr>\n",
       "      <th>0</th>\n",
       "      <td>TfidfVect &amp; RandForest</td>\n",
       "      <td>balanced_accuracy</td>\n",
       "      <td>0.855494</td>\n",
       "    </tr>\n",
       "    <tr>\n",
       "      <th>0</th>\n",
       "      <td>TfidfVect, ADASYN &amp; LogReg</td>\n",
       "      <td>balanced_accuracy</td>\n",
       "      <td>0.897069</td>\n",
       "    </tr>\n",
       "    <tr>\n",
       "      <th>0</th>\n",
       "      <td>TfidfVect, ADASYN &amp; MultiNB</td>\n",
       "      <td>balanced_accuracy</td>\n",
       "      <td>0.899779</td>\n",
       "    </tr>\n",
       "    <tr>\n",
       "      <th>0</th>\n",
       "      <td>TfidfVect &amp; GaussianNB</td>\n",
       "      <td>balanced_accuracy</td>\n",
       "      <td>0.855162</td>\n",
       "    </tr>\n",
       "  </tbody>\n",
       "</table>\n",
       "</div>"
      ],
      "text/plain": [
       "                    model_name         score_type     score\n",
       "0           CountVect & LogReg  balanced_accuracy  0.886560\n",
       "0          CountVect & MultiNB  balanced_accuracy  0.900461\n",
       "0       CountVect & RandForest  balanced_accuracy  0.865560\n",
       "0           TfidfVect & LogReg  balanced_accuracy  0.894285\n",
       "0          TfidfVect & MultiNB  balanced_accuracy  0.904701\n",
       "0       TfidfVect & RandForest  balanced_accuracy  0.855494\n",
       "0   TfidfVect, ADASYN & LogReg  balanced_accuracy  0.897069\n",
       "0  TfidfVect, ADASYN & MultiNB  balanced_accuracy  0.899779\n",
       "0       TfidfVect & GaussianNB  balanced_accuracy  0.855162"
      ]
     },
     "execution_count": 206,
     "metadata": {},
     "output_type": "execute_result"
    }
   ],
   "source": [
    "scores_df.loc[scores_df[\"score_type\"] == \"balanced_accuracy\"]"
   ]
  },
  {
   "cell_type": "markdown",
   "metadata": {},
   "source": [
    "----"
   ]
  },
  {
   "cell_type": "markdown",
   "metadata": {},
   "source": [
    "# Analysis\n",
    "- focusing on the best performing model"
   ]
  },
  {
   "cell_type": "code",
   "execution_count": 42,
   "metadata": {},
   "outputs": [
    {
     "name": "stdout",
     "output_type": "stream",
     "text": [
      "model with best balanced accuracy score: 0    TfidfVect & MultiNB\n",
      "Name: model_name, dtype: object\n",
      "model with best f1 score: 1    TfidfVect & MultiNB\n",
      "Name: model_name, dtype: object\n",
      "model with best recall score: 2    TfidfVect, ADASYN & MultiNB\n",
      "Name: model_name, dtype: object\n",
      "model with best precision score: 3    TfidfVect & MultiNB\n",
      "Name: model_name, dtype: object\n"
     ]
    }
   ],
   "source": [
    "# found this on stack overflow: https://stackoverflow.com/questions/15705630/get-the-rows-which-have-the-max-value-in-groups-using-groupby\n",
    "highest_scores = scores_df.groupby(\"score_type\")[\"score\"].max()\n",
    "print(f\"model with best balanced accuracy score: {scores_df.loc[(scores_df['score_type'] == 'balanced_accuracy') & (scores_df['score'] == highest_scores['balanced_accuracy'])]['model_name']}\")\n",
    "print(f\"model with best f1 score: {scores_df.loc[(scores_df['score_type'] == 'f1_score') & (scores_df['score'] == highest_scores['f1_score'])]['model_name']}\")\n",
    "print(f\"model with best recall score: {scores_df.loc[(scores_df['score_type'] == 'recall') & (scores_df['score'] == highest_scores['recall'])]['model_name']}\")\n",
    "print(f\"model with best precision score: {scores_df.loc[(scores_df['score_type'] == 'precision') & (scores_df['score'] == highest_scores['precision'])]['model_name']}\");"
   ]
  },
  {
   "cell_type": "code",
   "execution_count": 48,
   "metadata": {},
   "outputs": [
    {
     "data": {
      "text/plain": [
       "score_type\n",
       "balanced_accuracy    0.904701\n",
       "f1_score             0.890323\n",
       "precision            0.920000\n",
       "recall               0.950000\n",
       "Name: score, dtype: float64"
      ]
     },
     "execution_count": 48,
     "metadata": {},
     "output_type": "execute_result"
    }
   ],
   "source": [
    "highest_scores"
   ]
  },
  {
   "cell_type": "code",
   "execution_count": 47,
   "metadata": {},
   "outputs": [
    {
     "data": {
      "image/png": "[encoded data removed]",
      "text/plain": [
       "<Figure size 783.625x600 with 1 Axes>"
      ]
     },
     "metadata": {},
     "output_type": "display_data"
    }
   ],
   "source": [
    "best_models = scores_df.loc[scores_df[\"model_name\"].str.contains(\"MultiNB\")]\n",
    "\n",
    "bars = sns.catplot(\n",
    "    data=best_models, kind=\"bar\",\n",
    "    x=\"model_name\", y=\"score\", hue=\"score_type\",\n",
    "    errorbar=\"sd\", palette=\"dark\", alpha=.6, height=6\n",
    ")\n",
    "bars.despine(left=True)\n",
    "bars.set_axis_labels(\"\", \"Score\")\n",
    "plt.xticks(rotation=90)\n",
    "bars.legend.set_title(\"Metrics by model\");"
   ]
  },
  {
   "cell_type": "code",
   "execution_count": 180,
   "metadata": {},
   "outputs": [
    {
     "data": {
      "text/html": [
       "<div>\n",
       "<style scoped>\n",
       "    .dataframe tbody tr th:only-of-type {\n",
       "        vertical-align: middle;\n",
       "    }\n",
       "\n",
       "    .dataframe tbody tr th {\n",
       "        vertical-align: top;\n",
       "    }\n",
       "\n",
       "    .dataframe thead th {\n",
       "        text-align: right;\n",
       "    }\n",
       "</style>\n",
       "<table border=\"1\" class=\"dataframe\">\n",
       "  <thead>\n",
       "    <tr style=\"text-align: right;\">\n",
       "      <th></th>\n",
       "      <th>model_name</th>\n",
       "      <th>score_type</th>\n",
       "      <th>score</th>\n",
       "    </tr>\n",
       "  </thead>\n",
       "  <tbody>\n",
       "    <tr>\n",
       "      <th>0</th>\n",
       "      <td>TfidfVect &amp; MultiNB</td>\n",
       "      <td>balanced_accuracy</td>\n",
       "      <td>0.904701</td>\n",
       "    </tr>\n",
       "    <tr>\n",
       "      <th>1</th>\n",
       "      <td>TfidfVect &amp; MultiNB</td>\n",
       "      <td>f1_score</td>\n",
       "      <td>0.890323</td>\n",
       "    </tr>\n",
       "    <tr>\n",
       "      <th>2</th>\n",
       "      <td>TfidfVect &amp; MultiNB</td>\n",
       "      <td>recall</td>\n",
       "      <td>0.862500</td>\n",
       "    </tr>\n",
       "    <tr>\n",
       "      <th>3</th>\n",
       "      <td>TfidfVect &amp; MultiNB</td>\n",
       "      <td>precision</td>\n",
       "      <td>0.920000</td>\n",
       "    </tr>\n",
       "  </tbody>\n",
       "</table>\n",
       "</div>"
      ],
      "text/plain": [
       "            model_name         score_type     score\n",
       "0  TfidfVect & MultiNB  balanced_accuracy  0.904701\n",
       "1  TfidfVect & MultiNB           f1_score  0.890323\n",
       "2  TfidfVect & MultiNB             recall  0.862500\n",
       "3  TfidfVect & MultiNB          precision  0.920000"
      ]
     },
     "execution_count": 180,
     "metadata": {},
     "output_type": "execute_result"
    }
   ],
   "source": [
    "scores_df.loc[scores_df[\"model_name\"] == \"TfidfVect & MultiNB\"]"
   ]
  },
  {
   "cell_type": "code",
   "execution_count": 80,
   "metadata": {},
   "outputs": [
    {
     "data": {
      "image/png": "[encoded data removed]",
      "text/plain": [
       "<Figure size 640x480 with 2 Axes>"
      ]
     },
     "metadata": {},
     "output_type": "display_data"
    }
   ],
   "source": [
    "ConfusionMatrixDisplay.from_estimator(gs_5, X_test, y_test, cmap='Blues');"
   ]
  },
  {
   "cell_type": "code",
   "execution_count": 74,
   "metadata": {},
   "outputs": [
    {
     "name": "stdout",
     "output_type": "stream",
     "text": [
      "roc_auc_score: 0.9047013274336283\n",
      "balanced_accuracy_score: 0.9047013274336284\n",
      "f_1 score: 0.8903225806451613\n"
     ]
    },
    {
     "data": {
      "image/png": "[encoded data removed]",
      "text/plain": [
       "<Figure size 640x480 with 1 Axes>"
      ]
     },
     "metadata": {},
     "output_type": "display_data"
    }
   ],
   "source": [
    "preds = gs_5.predict(X_test)\n",
    "print(f\"roc_auc_score: {roc_auc_score(y_test, preds)}\")\n",
    "print(f\"balanced_accuracy_score: {balanced_accuracy_score(y_test, preds)}\")\n",
    "print(f\"f_1 score: {f1_score(y_test, preds)}\")\n",
    "\n",
    "# got this from: https://www.statology.org/plot-roc-curve-python/\n",
    "#define metrics\n",
    "y_pred_proba = gs_5.predict_proba(X_test)[::,1]\n",
    "fpr, tpr, _ = roc_curve(y_test,  y_pred_proba)\n",
    "\n",
    "#create ROC curve\n",
    "plt.plot(fpr,tpr)\n",
    "plt.ylabel('True Positive Rate')\n",
    "plt.xlabel('False Positive Rate')\n",
    "plt.show();"
   ]
  },
  {
   "cell_type": "code",
   "execution_count": 136,
   "metadata": {},
   "outputs": [
    {
     "data": {
      "text/html": [
       "<div>\n",
       "<style scoped>\n",
       "    .dataframe tbody tr th:only-of-type {\n",
       "        vertical-align: middle;\n",
       "    }\n",
       "\n",
       "    .dataframe tbody tr th {\n",
       "        vertical-align: top;\n",
       "    }\n",
       "\n",
       "    .dataframe thead th {\n",
       "        text-align: right;\n",
       "    }\n",
       "</style>\n",
       "<table border=\"1\" class=\"dataframe\">\n",
       "  <thead>\n",
       "    <tr style=\"text-align: right;\">\n",
       "      <th></th>\n",
       "      <th>target</th>\n",
       "      <th>index</th>\n",
       "      <th>preds</th>\n",
       "    </tr>\n",
       "  </thead>\n",
       "  <tbody>\n",
       "    <tr>\n",
       "      <th>1122</th>\n",
       "      <td>0</td>\n",
       "      <td>1122</td>\n",
       "      <td>0</td>\n",
       "    </tr>\n",
       "    <tr>\n",
       "      <th>1371</th>\n",
       "      <td>0</td>\n",
       "      <td>1371</td>\n",
       "      <td>0</td>\n",
       "    </tr>\n",
       "    <tr>\n",
       "      <th>1551</th>\n",
       "      <td>0</td>\n",
       "      <td>1551</td>\n",
       "      <td>0</td>\n",
       "    </tr>\n",
       "    <tr>\n",
       "      <th>1650</th>\n",
       "      <td>0</td>\n",
       "      <td>1650</td>\n",
       "      <td>0</td>\n",
       "    </tr>\n",
       "    <tr>\n",
       "      <th>854</th>\n",
       "      <td>0</td>\n",
       "      <td>854</td>\n",
       "      <td>0</td>\n",
       "    </tr>\n",
       "  </tbody>\n",
       "</table>\n",
       "</div>"
      ],
      "text/plain": [
       "      target  index  preds\n",
       "1122       0   1122      0\n",
       "1371       0   1371      0\n",
       "1551       0   1551      0\n",
       "1650       0   1650      0\n",
       "854        0    854      0"
      ]
     },
     "execution_count": 136,
     "metadata": {},
     "output_type": "execute_result"
    }
   ],
   "source": [
    "y_with_index = pd.DataFrame(y_test)\n",
    "y_with_index[\"index\"] = y_with_index.index\n",
    "y_with_index[\"preds\"] = preds\n",
    "y_with_index.head()"
   ]
  },
  {
   "cell_type": "code",
   "execution_count": 137,
   "metadata": {},
   "outputs": [
    {
     "name": "stdout",
     "output_type": "stream",
     "text": [
      "(51, 3)\n"
     ]
    },
    {
     "data": {
      "text/html": [
       "<div>\n",
       "<style scoped>\n",
       "    .dataframe tbody tr th:only-of-type {\n",
       "        vertical-align: middle;\n",
       "    }\n",
       "\n",
       "    .dataframe tbody tr th {\n",
       "        vertical-align: top;\n",
       "    }\n",
       "\n",
       "    .dataframe thead th {\n",
       "        text-align: right;\n",
       "    }\n",
       "</style>\n",
       "<table border=\"1\" class=\"dataframe\">\n",
       "  <thead>\n",
       "    <tr style=\"text-align: right;\">\n",
       "      <th></th>\n",
       "      <th>target</th>\n",
       "      <th>index</th>\n",
       "      <th>preds</th>\n",
       "    </tr>\n",
       "  </thead>\n",
       "  <tbody>\n",
       "    <tr>\n",
       "      <th>577</th>\n",
       "      <td>0</td>\n",
       "      <td>577</td>\n",
       "      <td>1</td>\n",
       "    </tr>\n",
       "    <tr>\n",
       "      <th>402</th>\n",
       "      <td>0</td>\n",
       "      <td>402</td>\n",
       "      <td>1</td>\n",
       "    </tr>\n",
       "    <tr>\n",
       "      <th>2028</th>\n",
       "      <td>1</td>\n",
       "      <td>2028</td>\n",
       "      <td>0</td>\n",
       "    </tr>\n",
       "    <tr>\n",
       "      <th>288</th>\n",
       "      <td>0</td>\n",
       "      <td>288</td>\n",
       "      <td>1</td>\n",
       "    </tr>\n",
       "    <tr>\n",
       "      <th>2846</th>\n",
       "      <td>1</td>\n",
       "      <td>2846</td>\n",
       "      <td>0</td>\n",
       "    </tr>\n",
       "  </tbody>\n",
       "</table>\n",
       "</div>"
      ],
      "text/plain": [
       "      target  index  preds\n",
       "577        0    577      1\n",
       "402        0    402      1\n",
       "2028       1   2028      0\n",
       "288        0    288      1\n",
       "2846       1   2846      0"
      ]
     },
     "execution_count": 137,
     "metadata": {},
     "output_type": "execute_result"
    }
   ],
   "source": [
    "incorrect_preds = y_with_index.loc[y_with_index[\"target\"] != y_with_index[\"preds\"]]\n",
    "print(incorrect_preds.shape)\n",
    "incorrect_preds.head()"
   ]
  },
  {
   "cell_type": "code",
   "execution_count": 99,
   "metadata": {},
   "outputs": [],
   "source": [
    "pos_class_vocab = pd.read_csv(\"data/pos_class_vocab.csv\")\n",
    "neg_class_vocab = pd.read_csv(\"data/neg_class_vocab.csv\")"
   ]
  },
  {
   "cell_type": "code",
   "execution_count": 138,
   "metadata": {},
   "outputs": [],
   "source": [
    "pos_word_set = set(pos_class_vocab[\"word\"])\n",
    "neg_word_set = set(neg_class_vocab[\"word\"])"
   ]
  },
  {
   "cell_type": "code",
   "execution_count": 162,
   "metadata": {},
   "outputs": [],
   "source": [
    "def examine_errors(errors, posts, pos_word_set, neg_word_set):\n",
    "    details =[]\n",
    "    for error in errors[\"index\"]:\n",
    "        error_dict = {}\n",
    "        words = set(re.findall(r\"(?u)\\b\\w\\w+\\b\", \" \".join(posts.iloc[error][\"selftext\"].split())))\n",
    "        error_dict[\"index\"] = error\n",
    "        error_dict[\"in_pos_vocab\"] = len(words.intersection(pos_word_set))\n",
    "        error_dict[\"in_neg_vocab\"] = len(words.intersection(neg_word_set))\n",
    "        error_dict[\"not_in_pos\"] = len(words.difference(pos_word_set))\n",
    "        error_dict[\"not_in_neg\"] = len(words.difference(neg_word_set))\n",
    "        error_dict[\"subreddit\"] = posts.iloc[error][\"subreddit\"]\n",
    "        # error_dict[\"error_type\"] = errors.loc[errors[\"index\"] == [error]][\"preds\"]\n",
    "        details.append(error_dict)\n",
    "    return pd.DataFrame.from_dict(details)  \n",
    "        "
   ]
  },
  {
   "cell_type": "code",
   "execution_count": 163,
   "metadata": {},
   "outputs": [],
   "source": [
    "error_df = examine_errors(incorrect_preds, posts, pos_word_set, neg_word_set)"
   ]
  },
  {
   "cell_type": "code",
   "execution_count": 164,
   "metadata": {},
   "outputs": [],
   "source": [
    "error_df[\"error_type\"] = np.where(incorrect_preds[\"preds\"] == 1, \"false positive\", \"false negative\")"
   ]
  },
  {
   "cell_type": "code",
   "execution_count": 165,
   "metadata": {},
   "outputs": [
    {
     "data": {
      "text/html": [
       "<div>\n",
       "<style scoped>\n",
       "    .dataframe tbody tr th:only-of-type {\n",
       "        vertical-align: middle;\n",
       "    }\n",
       "\n",
       "    .dataframe tbody tr th {\n",
       "        vertical-align: top;\n",
       "    }\n",
       "\n",
       "    .dataframe thead th {\n",
       "        text-align: right;\n",
       "    }\n",
       "</style>\n",
       "<table border=\"1\" class=\"dataframe\">\n",
       "  <thead>\n",
       "    <tr style=\"text-align: right;\">\n",
       "      <th></th>\n",
       "      <th>index</th>\n",
       "      <th>in_pos_vocab</th>\n",
       "      <th>in_neg_vocab</th>\n",
       "      <th>not_in_pos</th>\n",
       "      <th>not_in_neg</th>\n",
       "      <th>subreddit</th>\n",
       "      <th>error_type</th>\n",
       "    </tr>\n",
       "  </thead>\n",
       "  <tbody>\n",
       "    <tr>\n",
       "      <th>0</th>\n",
       "      <td>577</td>\n",
       "      <td>13</td>\n",
       "      <td>9</td>\n",
       "      <td>49</td>\n",
       "      <td>53</td>\n",
       "      <td>askscience</td>\n",
       "      <td>false positive</td>\n",
       "    </tr>\n",
       "    <tr>\n",
       "      <th>1</th>\n",
       "      <td>402</td>\n",
       "      <td>0</td>\n",
       "      <td>0</td>\n",
       "      <td>7</td>\n",
       "      <td>7</td>\n",
       "      <td>askscience</td>\n",
       "      <td>false positive</td>\n",
       "    </tr>\n",
       "    <tr>\n",
       "      <th>2</th>\n",
       "      <td>2028</td>\n",
       "      <td>3</td>\n",
       "      <td>3</td>\n",
       "      <td>22</td>\n",
       "      <td>22</td>\n",
       "      <td>AskScienceFiction</td>\n",
       "      <td>false negative</td>\n",
       "    </tr>\n",
       "    <tr>\n",
       "      <th>3</th>\n",
       "      <td>288</td>\n",
       "      <td>7</td>\n",
       "      <td>4</td>\n",
       "      <td>22</td>\n",
       "      <td>25</td>\n",
       "      <td>askscience</td>\n",
       "      <td>false positive</td>\n",
       "    </tr>\n",
       "    <tr>\n",
       "      <th>4</th>\n",
       "      <td>2846</td>\n",
       "      <td>0</td>\n",
       "      <td>1</td>\n",
       "      <td>15</td>\n",
       "      <td>14</td>\n",
       "      <td>AskScienceFiction</td>\n",
       "      <td>false negative</td>\n",
       "    </tr>\n",
       "  </tbody>\n",
       "</table>\n",
       "</div>"
      ],
      "text/plain": [
       "   index  in_pos_vocab  in_neg_vocab  not_in_pos  not_in_neg  \\\n",
       "0    577            13             9          49          53   \n",
       "1    402             0             0           7           7   \n",
       "2   2028             3             3          22          22   \n",
       "3    288             7             4          22          25   \n",
       "4   2846             0             1          15          14   \n",
       "\n",
       "           subreddit      error_type  \n",
       "0         askscience  false positive  \n",
       "1         askscience  false positive  \n",
       "2  AskScienceFiction  false negative  \n",
       "3         askscience  false positive  \n",
       "4  AskScienceFiction  false negative  "
      ]
     },
     "execution_count": 165,
     "metadata": {},
     "output_type": "execute_result"
    }
   ],
   "source": [
    "error_df.head()"
   ]
  },
  {
   "cell_type": "code",
   "execution_count": 167,
   "metadata": {},
   "outputs": [
    {
     "data": {
      "text/plain": [
       "subreddit\n",
       "AskScienceFiction    0.647059\n",
       "askscience           0.313725\n",
       "space                0.039216\n",
       "Name: proportion, dtype: float64"
      ]
     },
     "execution_count": 167,
     "metadata": {},
     "output_type": "execute_result"
    }
   ],
   "source": [
    "error_df[\"subreddit\"].value_counts(normalize=True)"
   ]
  },
  {
   "cell_type": "code",
   "execution_count": 168,
   "metadata": {},
   "outputs": [
    {
     "data": {
      "text/plain": [
       "subreddit\n",
       "AskScienceFiction    0.414044\n",
       "space                0.331027\n",
       "askscience           0.254929\n",
       "Name: proportion, dtype: float64"
      ]
     },
     "execution_count": 168,
     "metadata": {},
     "output_type": "execute_result"
    }
   ],
   "source": [
    "posts[\"subreddit\"].value_counts(normalize=True)"
   ]
  },
  {
   "cell_type": "code",
   "execution_count": 170,
   "metadata": {},
   "outputs": [],
   "source": [
    "error_df[\"proportion_unmatched\"] = (error_df[\"not_in_neg\"] + error_df[\"not_in_pos\"]) / (error_df[\"in_pos_vocab\"] + error_df[\"in_neg_vocab\"] + error_df[\"not_in_neg\"] + error_df[\"not_in_pos\"])\n",
    "error_df[\"proportion_matched\"] = (error_df[\"in_neg_vocab\"] + error_df[\"in_pos_vocab\"]) / (error_df[\"in_pos_vocab\"] + error_df[\"in_neg_vocab\"] + error_df[\"not_in_neg\"] + error_df[\"not_in_pos\"])"
   ]
  },
  {
   "cell_type": "code",
   "execution_count": 171,
   "metadata": {},
   "outputs": [
    {
     "data": {
      "text/html": [
       "<div>\n",
       "<style scoped>\n",
       "    .dataframe tbody tr th:only-of-type {\n",
       "        vertical-align: middle;\n",
       "    }\n",
       "\n",
       "    .dataframe tbody tr th {\n",
       "        vertical-align: top;\n",
       "    }\n",
       "\n",
       "    .dataframe thead th {\n",
       "        text-align: right;\n",
       "    }\n",
       "</style>\n",
       "<table border=\"1\" class=\"dataframe\">\n",
       "  <thead>\n",
       "    <tr style=\"text-align: right;\">\n",
       "      <th></th>\n",
       "      <th>index</th>\n",
       "      <th>in_pos_vocab</th>\n",
       "      <th>in_neg_vocab</th>\n",
       "      <th>not_in_pos</th>\n",
       "      <th>not_in_neg</th>\n",
       "      <th>subreddit</th>\n",
       "      <th>error_type</th>\n",
       "      <th>proportion_unmatched</th>\n",
       "      <th>proportion_matched</th>\n",
       "    </tr>\n",
       "  </thead>\n",
       "  <tbody>\n",
       "    <tr>\n",
       "      <th>0</th>\n",
       "      <td>577</td>\n",
       "      <td>13</td>\n",
       "      <td>9</td>\n",
       "      <td>49</td>\n",
       "      <td>53</td>\n",
       "      <td>askscience</td>\n",
       "      <td>false positive</td>\n",
       "      <td>0.822581</td>\n",
       "      <td>0.177419</td>\n",
       "    </tr>\n",
       "    <tr>\n",
       "      <th>1</th>\n",
       "      <td>402</td>\n",
       "      <td>0</td>\n",
       "      <td>0</td>\n",
       "      <td>7</td>\n",
       "      <td>7</td>\n",
       "      <td>askscience</td>\n",
       "      <td>false positive</td>\n",
       "      <td>1.000000</td>\n",
       "      <td>0.000000</td>\n",
       "    </tr>\n",
       "    <tr>\n",
       "      <th>2</th>\n",
       "      <td>2028</td>\n",
       "      <td>3</td>\n",
       "      <td>3</td>\n",
       "      <td>22</td>\n",
       "      <td>22</td>\n",
       "      <td>AskScienceFiction</td>\n",
       "      <td>false negative</td>\n",
       "      <td>0.880000</td>\n",
       "      <td>0.120000</td>\n",
       "    </tr>\n",
       "    <tr>\n",
       "      <th>3</th>\n",
       "      <td>288</td>\n",
       "      <td>7</td>\n",
       "      <td>4</td>\n",
       "      <td>22</td>\n",
       "      <td>25</td>\n",
       "      <td>askscience</td>\n",
       "      <td>false positive</td>\n",
       "      <td>0.810345</td>\n",
       "      <td>0.189655</td>\n",
       "    </tr>\n",
       "    <tr>\n",
       "      <th>4</th>\n",
       "      <td>2846</td>\n",
       "      <td>0</td>\n",
       "      <td>1</td>\n",
       "      <td>15</td>\n",
       "      <td>14</td>\n",
       "      <td>AskScienceFiction</td>\n",
       "      <td>false negative</td>\n",
       "      <td>0.966667</td>\n",
       "      <td>0.033333</td>\n",
       "    </tr>\n",
       "  </tbody>\n",
       "</table>\n",
       "</div>"
      ],
      "text/plain": [
       "   index  in_pos_vocab  in_neg_vocab  not_in_pos  not_in_neg  \\\n",
       "0    577            13             9          49          53   \n",
       "1    402             0             0           7           7   \n",
       "2   2028             3             3          22          22   \n",
       "3    288             7             4          22          25   \n",
       "4   2846             0             1          15          14   \n",
       "\n",
       "           subreddit      error_type  proportion_unmatched  proportion_matched  \n",
       "0         askscience  false positive              0.822581            0.177419  \n",
       "1         askscience  false positive              1.000000            0.000000  \n",
       "2  AskScienceFiction  false negative              0.880000            0.120000  \n",
       "3         askscience  false positive              0.810345            0.189655  \n",
       "4  AskScienceFiction  false negative              0.966667            0.033333  "
      ]
     },
     "execution_count": 171,
     "metadata": {},
     "output_type": "execute_result"
    }
   ],
   "source": [
    "error_df.head()"
   ]
  },
  {
   "cell_type": "code",
   "execution_count": 172,
   "metadata": {},
   "outputs": [],
   "source": [
    "fp_df = error_df.loc[error_df[\"error_type\"] == \"false positive\"]\n",
    "fn_df = error_df.loc[error_df[\"error_type\"] == \"false negative\"]"
   ]
  },
  {
   "cell_type": "code",
   "execution_count": 208,
   "metadata": {},
   "outputs": [
    {
     "data": {
      "text/plain": [
       "subreddit\n",
       "askscience    0.888889\n",
       "space         0.111111\n",
       "Name: proportion, dtype: float64"
      ]
     },
     "execution_count": 208,
     "metadata": {},
     "output_type": "execute_result"
    }
   ],
   "source": [
    "fp_df[\"subreddit\"].value_counts(normalize=True)"
   ]
  },
  {
   "cell_type": "code",
   "execution_count": 178,
   "metadata": {},
   "outputs": [
    {
     "data": {
      "text/html": [
       "<div>\n",
       "<style scoped>\n",
       "    .dataframe tbody tr th:only-of-type {\n",
       "        vertical-align: middle;\n",
       "    }\n",
       "\n",
       "    .dataframe tbody tr th {\n",
       "        vertical-align: top;\n",
       "    }\n",
       "\n",
       "    .dataframe thead th {\n",
       "        text-align: right;\n",
       "    }\n",
       "</style>\n",
       "<table border=\"1\" class=\"dataframe\">\n",
       "  <thead>\n",
       "    <tr style=\"text-align: right;\">\n",
       "      <th></th>\n",
       "      <th>error</th>\n",
       "      <th>proportion_type</th>\n",
       "      <th>mean</th>\n",
       "    </tr>\n",
       "  </thead>\n",
       "  <tbody>\n",
       "    <tr>\n",
       "      <th>0</th>\n",
       "      <td>false positive</td>\n",
       "      <td>not in vectorized data</td>\n",
       "      <td>0.894308</td>\n",
       "    </tr>\n",
       "    <tr>\n",
       "      <th>1</th>\n",
       "      <td>false positive</td>\n",
       "      <td>in vectorized data</td>\n",
       "      <td>0.105692</td>\n",
       "    </tr>\n",
       "    <tr>\n",
       "      <th>2</th>\n",
       "      <td>false negative</td>\n",
       "      <td>not in vectorized data</td>\n",
       "      <td>0.873038</td>\n",
       "    </tr>\n",
       "    <tr>\n",
       "      <th>3</th>\n",
       "      <td>false negative</td>\n",
       "      <td>in vectorized data</td>\n",
       "      <td>0.126962</td>\n",
       "    </tr>\n",
       "  </tbody>\n",
       "</table>\n",
       "</div>"
      ],
      "text/plain": [
       "            error         proportion_type      mean\n",
       "0  false positive  not in vectorized data  0.894308\n",
       "1  false positive      in vectorized data  0.105692\n",
       "2  false negative  not in vectorized data  0.873038\n",
       "3  false negative      in vectorized data  0.126962"
      ]
     },
     "execution_count": 178,
     "metadata": {},
     "output_type": "execute_result"
    }
   ],
   "source": [
    "error_details = [\n",
    "    {\"error\": \"false positive\",\n",
    "     \"proportion_type\": \"not in vectorized data\",\n",
    "     \"mean\": error_df.loc[error_df[\"error_type\"] == \"false positive\"][\"proportion_unmatched\"].mean()\n",
    "    },\n",
    "    {\n",
    "     \"error\": \"false positive\",\n",
    "     \"proportion_type\": \"in vectorized data\",\n",
    "     \"mean\": error_df.loc[error_df[\"error_type\"] == \"false positive\"][\"proportion_matched\"].mean(),\n",
    "     },\n",
    "     {\"error\": \"false negative\",\n",
    "     \"proportion_type\": \"not in vectorized data\",\n",
    "     \"mean\": error_df.loc[error_df[\"error_type\"] == \"false negative\"][\"proportion_unmatched\"].mean()\n",
    "    },\n",
    "    {\n",
    "     \"error\": \"false negative\",\n",
    "     \"proportion_type\": \"in vectorized data\",\n",
    "     \"mean\": error_df.loc[error_df[\"error_type\"] == \"false negative\"][\"proportion_matched\"].mean(),\n",
    "     }\n",
    "]\n",
    "\n",
    "details_df = pd.DataFrame.from_dict(error_details)\n",
    "details_df.head()"
   ]
  },
  {
   "cell_type": "code",
   "execution_count": 179,
   "metadata": {},
   "outputs": [
    {
     "data": {
      "image/png": "[encoded data removed]",
      "text/plain": [
       "<Figure size 802.875x600 with 1 Axes>"
      ]
     },
     "metadata": {},
     "output_type": "display_data"
    }
   ],
   "source": [
    "bars = sns.catplot(\n",
    "    data=details_df, kind=\"bar\",\n",
    "    x=\"error\", y=\"mean\", hue=\"proportion_type\",\n",
    "    errorbar=\"sd\", palette=\"dark\", alpha=.6, height=6\n",
    ")\n",
    "bars.despine(left=True)\n",
    "bars.set_axis_labels(\"\", \"mean proportion\")\n",
    "plt.xticks(rotation=90)\n",
    "bars.legend.set_title(\"Words in incorrectly-classified selftext\");"
   ]
  },
  {
   "cell_type": "code",
   "execution_count": 209,
   "metadata": {},
   "outputs": [
    {
     "data": {
      "text/html": [
       "<div>\n",
       "<style scoped>\n",
       "    .dataframe tbody tr th:only-of-type {\n",
       "        vertical-align: middle;\n",
       "    }\n",
       "\n",
       "    .dataframe tbody tr th {\n",
       "        vertical-align: top;\n",
       "    }\n",
       "\n",
       "    .dataframe thead th {\n",
       "        text-align: right;\n",
       "    }\n",
       "</style>\n",
       "<table border=\"1\" class=\"dataframe\">\n",
       "  <thead>\n",
       "    <tr style=\"text-align: right;\">\n",
       "      <th></th>\n",
       "      <th>label</th>\n",
       "      <th>proportion_type</th>\n",
       "      <th>mean</th>\n",
       "    </tr>\n",
       "  </thead>\n",
       "  <tbody>\n",
       "    <tr>\n",
       "      <th>0</th>\n",
       "      <td>true positive</td>\n",
       "      <td>not in vectorized data</td>\n",
       "      <td>0.874811</td>\n",
       "    </tr>\n",
       "    <tr>\n",
       "      <th>1</th>\n",
       "      <td>true positive</td>\n",
       "      <td>in vectorized data</td>\n",
       "      <td>0.125189</td>\n",
       "    </tr>\n",
       "    <tr>\n",
       "      <th>2</th>\n",
       "      <td>true negative</td>\n",
       "      <td>not in vectorized data</td>\n",
       "      <td>0.880422</td>\n",
       "    </tr>\n",
       "    <tr>\n",
       "      <th>3</th>\n",
       "      <td>true negative</td>\n",
       "      <td>in vectorized data</td>\n",
       "      <td>0.119578</td>\n",
       "    </tr>\n",
       "  </tbody>\n",
       "</table>\n",
       "</div>"
      ],
      "text/plain": [
       "           label         proportion_type      mean\n",
       "0  true positive  not in vectorized data  0.874811\n",
       "1  true positive      in vectorized data  0.125189\n",
       "2  true negative  not in vectorized data  0.880422\n",
       "3  true negative      in vectorized data  0.119578"
      ]
     },
     "execution_count": 209,
     "metadata": {},
     "output_type": "execute_result"
    }
   ],
   "source": [
    "correct_preds = y_with_index.loc[y_with_index[\"target\"] == y_with_index[\"preds\"]]\n",
    "accurate_df = examine_errors(correct_preds, posts, pos_word_set, neg_word_set)\n",
    "accurate_df[\"type\"] = np.where(correct_preds[\"preds\"] == 1, \"true positive\", \"true negative\")\n",
    "\n",
    "accurate_df[\"proportion_unmatched\"] = (accurate_df[\"not_in_neg\"] + accurate_df[\"not_in_pos\"]) / (accurate_df[\"in_pos_vocab\"] + accurate_df[\"in_neg_vocab\"] + accurate_df[\"not_in_neg\"] + accurate_df[\"not_in_pos\"])\n",
    "accurate_df[\"proportion_matched\"] = (accurate_df[\"in_neg_vocab\"] + accurate_df[\"in_pos_vocab\"]) / (accurate_df[\"in_pos_vocab\"] + accurate_df[\"in_neg_vocab\"] + accurate_df[\"not_in_neg\"] + accurate_df[\"not_in_pos\"])\n",
    "\n",
    "accurate_details = [\n",
    "    {\"label\": \"true positive\",\n",
    "     \"proportion_type\": \"not in vectorized data\",\n",
    "     \"mean\": accurate_df.loc[accurate_df[\"type\"] == \"true positive\"][\"proportion_unmatched\"].mean()\n",
    "    },\n",
    "    {\n",
    "     \"label\": \"true positive\",\n",
    "     \"proportion_type\": \"in vectorized data\",\n",
    "     \"mean\": accurate_df.loc[accurate_df[\"type\"] == \"true positive\"][\"proportion_matched\"].mean(),\n",
    "     },\n",
    "     {\"label\": \"true negative\",\n",
    "     \"proportion_type\": \"not in vectorized data\",\n",
    "     \"mean\": accurate_df.loc[accurate_df[\"type\"] == \"true negative\"][\"proportion_unmatched\"].mean()\n",
    "    },\n",
    "    {\n",
    "     \"label\": \"true negative\",\n",
    "     \"proportion_type\": \"in vectorized data\",\n",
    "     \"mean\": accurate_df.loc[accurate_df[\"type\"] == \"true negative\"][\"proportion_matched\"].mean(),\n",
    "     }\n",
    "]\n",
    "\n",
    "acc_details_df = pd.DataFrame.from_dict(accurate_details)\n",
    "acc_details_df.head()"
   ]
  },
  {
   "cell_type": "code",
   "execution_count": 211,
   "metadata": {},
   "outputs": [
    {
     "data": {
      "image/png": "[encoded data removed]",
      "text/plain": [
       "<Figure size 802.875x600 with 1 Axes>"
      ]
     },
     "metadata": {},
     "output_type": "display_data"
    }
   ],
   "source": [
    "bars = sns.catplot(\n",
    "    data=acc_details_df, kind=\"bar\",\n",
    "    x=\"label\", y=\"mean\", hue=\"proportion_type\",\n",
    "    errorbar=\"sd\", palette=\"dark\", alpha=.6, height=6\n",
    ")\n",
    "bars.despine(left=True)\n",
    "bars.set_axis_labels(\"\", \"mean proportion\")\n",
    "plt.xticks(rotation=90)\n",
    "bars.legend.set_title(\"Words in correctly-classified selftext\");"
   ]
  },
  {
   "cell_type": "markdown",
   "metadata": {},
   "source": [
    "### Closer look at some specific errors"
   ]
  },
  {
   "cell_type": "code",
   "execution_count": 189,
   "metadata": {},
   "outputs": [
    {
     "data": {
      "text/plain": [
       "'My daughter asks, do ladybugs have uteruses?'"
      ]
     },
     "execution_count": 189,
     "metadata": {},
     "output_type": "execute_result"
    }
   ],
   "source": [
    "posts.iloc[402][\"selftext\"]"
   ]
  },
  {
   "cell_type": "code",
   "execution_count": 200,
   "metadata": {},
   "outputs": [
    {
     "name": "stdout",
     "output_type": "stream",
     "text": [
      "number of words in positive vocab: 0; in negative: 0\n",
      "number not in positive vocab: 7; not in negative: 7\n",
      "predicted class: 402    1\n",
      "Name: preds, dtype: int64\n"
     ]
    }
   ],
   "source": [
    "sample_402_words = re.findall(r\"(?u)\\b\\w\\w+\\b\", \" \".join(posts.iloc[402][\"selftext\"].split()))\n",
    "sample_402_in_pos = set(sample_402_words).intersection(set(pos_class_vocab[\"word\"]))\n",
    "sample_402_in_neg = set(sample_402_words).intersection(set(neg_class_vocab[\"word\"]))\n",
    "print(f\"number of words in positive vocab: {len(sample_402_in_pos)}; in negative: {len(sample_402_in_neg)}\")\n",
    "sample_402_not_in_pos = set(sample_402_words).difference(set(pos_class_vocab[\"word\"]))\n",
    "sample_402_not_in_neg = set(sample_402_words).difference(set(neg_class_vocab[\"word\"]))\n",
    "print(f\"number not in positive vocab: {len(sample_402_not_in_pos)}; not in negative: {len(sample_402_not_in_neg)}\")\n",
    "print(f\"predicted class: {incorrect_preds.loc[incorrect_preds['index'] == 402]['preds']}\")"
   ]
  },
  {
   "cell_type": "code",
   "execution_count": 203,
   "metadata": {},
   "outputs": [
    {
     "data": {
      "text/plain": [
       "'askscience'"
      ]
     },
     "execution_count": 203,
     "metadata": {},
     "output_type": "execute_result"
    }
   ],
   "source": [
    "posts.iloc[402][\"subreddit\"]"
   ]
  },
  {
   "cell_type": "markdown",
   "metadata": {},
   "source": [
    "- index 577"
   ]
  },
  {
   "cell_type": "code",
   "execution_count": 182,
   "metadata": {},
   "outputs": [
    {
     "data": {
      "text/plain": [
       "'So when a person gets for example a complete hand from a donor, i would assume the DNA of that hand is from the donor.\\n\\nThen again they every part of a person get replaced in about 15 years(i.e. nails growing, skin shedding etc). So what will happen with the DNA already in the donated hand. Will this get replaced, or would it stay the same.\\nAnd how would for example a crime scene look after the person with the new hand commits a crime, would the police know about the added DNA? Sure they will find 2 DNAs, but how does that work?'"
      ]
     },
     "execution_count": 182,
     "metadata": {},
     "output_type": "execute_result"
    }
   ],
   "source": [
    "posts.iloc[577][\"selftext\"]"
   ]
  },
  {
   "cell_type": "code",
   "execution_count": 202,
   "metadata": {},
   "outputs": [
    {
     "name": "stdout",
     "output_type": "stream",
     "text": [
      "number of words in positive vocab: 13; in negative: 9\n",
      "number not in positive vocab: 49; not in negative: 53\n",
      "predicted class: 577    1\n",
      "Name: preds, dtype: int64\n"
     ]
    }
   ],
   "source": [
    "sample_577_words = re.findall(r\"(?u)\\b\\w\\w+\\b\", \" \".join(posts.iloc[577][\"selftext\"].split()))\n",
    "sample_577_in_pos = set(sample_577_words).intersection(set(pos_class_vocab[\"word\"]))\n",
    "sample_577_in_neg = set(sample_577_words).intersection(set(neg_class_vocab[\"word\"]))\n",
    "print(f\"number of words in positive vocab: {len(sample_577_in_pos)}; in negative: {len(sample_577_in_neg)}\")\n",
    "sample_577_not_in_pos = set(sample_577_words).difference(set(pos_class_vocab[\"word\"]))\n",
    "sample_577_not_in_neg = set(sample_577_words).difference(set(neg_class_vocab[\"word\"]))\n",
    "print(f\"number not in positive vocab: {len(sample_577_not_in_pos)}; not in negative: {len(sample_577_not_in_neg)}\")\n",
    "print(f\"predicted class: {incorrect_preds.loc[incorrect_preds['index'] == 577]['preds']}\")"
   ]
  },
  {
   "cell_type": "code",
   "execution_count": 215,
   "metadata": {},
   "outputs": [
    {
     "data": {
      "text/plain": [
       "{'assume',\n",
       " 'crime',\n",
       " 'example',\n",
       " 'gets',\n",
       " 'hand',\n",
       " 'happen',\n",
       " 'look',\n",
       " 'new',\n",
       " 'person',\n",
       " 'police',\n",
       " 'scene',\n",
       " 'work',\n",
       " 'years'}"
      ]
     },
     "execution_count": 215,
     "metadata": {},
     "output_type": "execute_result"
    }
   ],
   "source": [
    "sample_577_in_pos"
   ]
  },
  {
   "cell_type": "code",
   "execution_count": 216,
   "metadata": {},
   "outputs": [
    {
     "data": {
      "text/plain": [
       "{'15',\n",
       " 'And',\n",
       " 'DNA',\n",
       " 'DNAs',\n",
       " 'So',\n",
       " 'Sure',\n",
       " 'Then',\n",
       " 'Will',\n",
       " 'about',\n",
       " 'added',\n",
       " 'after',\n",
       " 'again',\n",
       " 'already',\n",
       " 'but',\n",
       " 'commits',\n",
       " 'complete',\n",
       " 'does',\n",
       " 'donated',\n",
       " 'donor',\n",
       " 'etc',\n",
       " 'every',\n",
       " 'find',\n",
       " 'for',\n",
       " 'from',\n",
       " 'get',\n",
       " 'growing',\n",
       " 'how',\n",
       " 'in',\n",
       " 'is',\n",
       " 'it',\n",
       " 'know',\n",
       " 'nails',\n",
       " 'of',\n",
       " 'or',\n",
       " 'part',\n",
       " 'replaced',\n",
       " 'same',\n",
       " 'shedding',\n",
       " 'skin',\n",
       " 'stay',\n",
       " 'that',\n",
       " 'the',\n",
       " 'they',\n",
       " 'this',\n",
       " 'what',\n",
       " 'when',\n",
       " 'will',\n",
       " 'with',\n",
       " 'would'}"
      ]
     },
     "execution_count": 216,
     "metadata": {},
     "output_type": "execute_result"
    }
   ],
   "source": [
    "sample_577_not_in_pos"
   ]
  },
  {
   "cell_type": "code",
   "execution_count": 108,
   "metadata": {},
   "outputs": [
    {
     "data": {
      "text/plain": [
       "'askscience'"
      ]
     },
     "execution_count": 108,
     "metadata": {},
     "output_type": "execute_result"
    }
   ],
   "source": [
    "posts.iloc[577][\"subreddit\"]"
   ]
  },
  {
   "cell_type": "markdown",
   "metadata": {},
   "source": [
    "- index 2028"
   ]
  },
  {
   "cell_type": "code",
   "execution_count": 183,
   "metadata": {},
   "outputs": [
    {
     "data": {
      "text/plain": [
       "'[Discworld] How does the day/night cycle work? Does the Great A’Tuin spin as they fly through space, exposing the top of the disc to sunlight, darkness, sunlight, darkness, etc?'"
      ]
     },
     "execution_count": 183,
     "metadata": {},
     "output_type": "execute_result"
    }
   ],
   "source": [
    "posts.iloc[2028][\"selftext\"]"
   ]
  },
  {
   "cell_type": "code",
   "execution_count": 204,
   "metadata": {},
   "outputs": [
    {
     "name": "stdout",
     "output_type": "stream",
     "text": [
      "number of words in positive vocab: 3; in negative: 3\n",
      "number not in positive vocab: 22; not in negative: 22\n",
      "predicted class: 2028    0\n",
      "Name: preds, dtype: int64\n"
     ]
    }
   ],
   "source": [
    "sample_2028_words = re.findall(r\"(?u)\\b\\w\\w+\\b\", \" \".join(posts.iloc[2028][\"selftext\"].split()))\n",
    "sample_2028_in_pos = set(sample_2028_words).intersection(set(pos_class_vocab[\"word\"]))\n",
    "sample_2028_in_neg = set(sample_2028_words).intersection(set(neg_class_vocab[\"word\"]))\n",
    "print(f\"number of words in positive vocab: {len(sample_2028_in_pos)}; in negative: {len(sample_2028_in_neg)}\")\n",
    "sample_2028_not_in_pos = set(sample_2028_words).difference(set(pos_class_vocab[\"word\"]))\n",
    "sample_2028_not_in_neg = set(sample_2028_words).difference(set(neg_class_vocab[\"word\"]))\n",
    "print(f\"number not in positive vocab: {len(sample_2028_not_in_pos)}; not in negative: {len(sample_2028_not_in_neg)}\")\n",
    "print(f\"predicted class: {incorrect_preds.loc[incorrect_preds['index'] == 2028]['preds']}\")"
   ]
  },
  {
   "cell_type": "code",
   "execution_count": 205,
   "metadata": {},
   "outputs": [
    {
     "data": {
      "text/plain": [
       "'AskScienceFiction'"
      ]
     },
     "execution_count": 205,
     "metadata": {},
     "output_type": "execute_result"
    }
   ],
   "source": [
    "posts.iloc[2028][\"subreddit\"]"
   ]
  }
 ],
 "metadata": {
  "kernelspec": {
   "display_name": "ga-lessons",
   "language": "python",
   "name": "python3"
  },
  "language_info": {
   "codemirror_mode": {
    "name": "ipython",
    "version": 3
   },
   "file_extension": ".py",
   "mimetype": "text/x-python",
   "name": "python",
   "nbconvert_exporter": "python",
   "pygments_lexer": "ipython3",
   "version": "3.11.5"
  }
 },
 "nbformat": 4,
 "nbformat_minor": 2
}
