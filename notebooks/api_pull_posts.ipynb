{
 "cells": [
  {
   "cell_type": "markdown",
   "metadata": {},
   "source": [
    "# Pulling posts from reddit\n",
    "- posts\n",
    "    - fetch previously-collected posts\n",
    "    - fetch earlier posts\n",
    "    - fetch more recent posts\n",
    "    - extract data from posts\n",
    "    - combine new data with older data\n",
    "    - check for duplicates\n",
    "- look into lack of new posts in \"space\" subreddit\n",
    "- save updated post data as csv\n",
    "- initial data pull\n",
    "- notes & other exploratory stuff\n"
   ]
  },
  {
   "cell_type": "code",
   "execution_count": 1,
   "metadata": {},
   "outputs": [],
   "source": [
    "import praw\n",
    "import pandas as pd \n",
    "import numpy as np \n",
    "\n",
    "import reddit_utilities\n",
    "import modeling_reporting"
   ]
  },
  {
   "cell_type": "code",
   "execution_count": 2,
   "metadata": {},
   "outputs": [],
   "source": [
    "# instantiate reddit instance\n",
    "reddit = praw.Reddit()\n",
    "# you're now connected & authenticated!"
   ]
  },
  {
   "cell_type": "code",
   "execution_count": 3,
   "metadata": {},
   "outputs": [],
   "source": [
    "subreddits = [\"AskScienceFiction\", \"space\", \"askscience\"]"
   ]
  },
  {
   "cell_type": "markdown",
   "metadata": {},
   "source": [
    "# Posts\n",
    "## Fetch previously-collected posts"
   ]
  },
  {
   "cell_type": "code",
   "execution_count": 4,
   "metadata": {},
   "outputs": [],
   "source": [
    "old_data = pd.read_csv(\"data/raw_posts.csv\")\n",
    "# old_data.tail()"
   ]
  },
  {
   "cell_type": "markdown",
   "metadata": {},
   "source": [
    "### Quick check on the old data to make sure it's in good shape"
   ]
  },
  {
   "cell_type": "code",
   "execution_count": 5,
   "metadata": {},
   "outputs": [
    {
     "data": {
      "text/plain": [
       "(2686, 6)"
      ]
     },
     "execution_count": 5,
     "metadata": {},
     "output_type": "execute_result"
    }
   ],
   "source": [
    "old_data.shape"
   ]
  },
  {
   "cell_type": "code",
   "execution_count": 6,
   "metadata": {},
   "outputs": [
    {
     "data": {
      "text/plain": [
       "subreddit\n",
       "AskScienceFiction    0.406925\n",
       "space                0.325763\n",
       "askscience           0.267312\n",
       "Name: proportion, dtype: float64"
      ]
     },
     "execution_count": 6,
     "metadata": {},
     "output_type": "execute_result"
    }
   ],
   "source": [
    "old_data[\"subreddit\"].value_counts(normalize=True)"
   ]
  },
  {
   "cell_type": "markdown",
   "metadata": {},
   "source": [
    "## Fetch earlier posts\n",
    "- this never brought in any additional posts (but I just kept trying it anyway)"
   ]
  },
  {
   "cell_type": "code",
   "execution_count": 7,
   "metadata": {},
   "outputs": [],
   "source": [
    "earlier_posts = reddit_utilities.get_earlier_posts(old_data, reddit, subreddits)\n",
    "posts_dict = reddit_utilities.extract_posts(earlier_posts)"
   ]
  },
  {
   "cell_type": "code",
   "execution_count": 8,
   "metadata": {},
   "outputs": [
    {
     "data": {
      "text/plain": [
       "0"
      ]
     },
     "execution_count": 8,
     "metadata": {},
     "output_type": "execute_result"
    }
   ],
   "source": [
    "len(posts_dict)"
   ]
  },
  {
   "cell_type": "markdown",
   "metadata": {},
   "source": [
    "## Fetch more recent posts"
   ]
  },
  {
   "cell_type": "code",
   "execution_count": 9,
   "metadata": {},
   "outputs": [],
   "source": [
    "later_posts = reddit_utilities.get_more_recent_posts(old_data, reddit, subreddits)"
   ]
  },
  {
   "cell_type": "markdown",
   "metadata": {},
   "source": [
    "## Extract data from posts"
   ]
  },
  {
   "cell_type": "code",
   "execution_count": 10,
   "metadata": {},
   "outputs": [
    {
     "data": {
      "text/plain": [
       "126"
      ]
     },
     "execution_count": 10,
     "metadata": {},
     "output_type": "execute_result"
    }
   ],
   "source": [
    "posts_dict = reddit_utilities.extract_posts(later_posts)\n",
    "len(posts_dict)"
   ]
  },
  {
   "cell_type": "code",
   "execution_count": 11,
   "metadata": {},
   "outputs": [
    {
     "data": {
      "text/html": [
       "<div>\n",
       "<style scoped>\n",
       "    .dataframe tbody tr th:only-of-type {\n",
       "        vertical-align: middle;\n",
       "    }\n",
       "\n",
       "    .dataframe tbody tr th {\n",
       "        vertical-align: top;\n",
       "    }\n",
       "\n",
       "    .dataframe thead th {\n",
       "        text-align: right;\n",
       "    }\n",
       "</style>\n",
       "<table border=\"1\" class=\"dataframe\">\n",
       "  <thead>\n",
       "    <tr style=\"text-align: right;\">\n",
       "      <th></th>\n",
       "      <th>title</th>\n",
       "      <th>selftext</th>\n",
       "      <th>subreddit</th>\n",
       "      <th>created_utc</th>\n",
       "      <th>name</th>\n",
       "      <th>type</th>\n",
       "    </tr>\n",
       "  </thead>\n",
       "  <tbody>\n",
       "    <tr>\n",
       "      <th>0</th>\n",
       "      <td>[MCU] I died in the snap and resurrected after...</td>\n",
       "      <td></td>\n",
       "      <td>AskScienceFiction</td>\n",
       "      <td>1.706455e+09</td>\n",
       "      <td>t3_1ad4uh1</td>\n",
       "      <td>post</td>\n",
       "    </tr>\n",
       "    <tr>\n",
       "      <th>1</th>\n",
       "      <td>[Wreck It Ralph] Has the arcade never experien...</td>\n",
       "      <td>I find it hard to believe that in all the year...</td>\n",
       "      <td>AskScienceFiction</td>\n",
       "      <td>1.706454e+09</td>\n",
       "      <td>t3_1ad4fnk</td>\n",
       "      <td>post</td>\n",
       "    </tr>\n",
       "    <tr>\n",
       "      <th>2</th>\n",
       "      <td>[Bleach] Is Ichigo's mother somewhere in Soul ...</td>\n",
       "      <td></td>\n",
       "      <td>AskScienceFiction</td>\n",
       "      <td>1.706453e+09</td>\n",
       "      <td>t3_1ad43v7</td>\n",
       "      <td>post</td>\n",
       "    </tr>\n",
       "    <tr>\n",
       "      <th>3</th>\n",
       "      <td>[Frontlines series book 3 Angles of attack spe...</td>\n",
       "      <td>This 3rd book was pretty annoying.\\n\\n1) They ...</td>\n",
       "      <td>AskScienceFiction</td>\n",
       "      <td>1.706452e+09</td>\n",
       "      <td>t3_1ad3si6</td>\n",
       "      <td>post</td>\n",
       "    </tr>\n",
       "    <tr>\n",
       "      <th>4</th>\n",
       "      <td>[Code Geass] If they had mechs in this timelin...</td>\n",
       "      <td>Wouldn't it make sense to have fully functiona...</td>\n",
       "      <td>AskScienceFiction</td>\n",
       "      <td>1.706448e+09</td>\n",
       "      <td>t3_1ad2m64</td>\n",
       "      <td>post</td>\n",
       "    </tr>\n",
       "  </tbody>\n",
       "</table>\n",
       "</div>"
      ],
      "text/plain": [
       "                                               title  \\\n",
       "0  [MCU] I died in the snap and resurrected after...   \n",
       "1  [Wreck It Ralph] Has the arcade never experien...   \n",
       "2  [Bleach] Is Ichigo's mother somewhere in Soul ...   \n",
       "3  [Frontlines series book 3 Angles of attack spe...   \n",
       "4  [Code Geass] If they had mechs in this timelin...   \n",
       "\n",
       "                                            selftext          subreddit  \\\n",
       "0                                                     AskScienceFiction   \n",
       "1  I find it hard to believe that in all the year...  AskScienceFiction   \n",
       "2                                                     AskScienceFiction   \n",
       "3  This 3rd book was pretty annoying.\\n\\n1) They ...  AskScienceFiction   \n",
       "4  Wouldn't it make sense to have fully functiona...  AskScienceFiction   \n",
       "\n",
       "    created_utc        name  type  \n",
       "0  1.706455e+09  t3_1ad4uh1  post  \n",
       "1  1.706454e+09  t3_1ad4fnk  post  \n",
       "2  1.706453e+09  t3_1ad43v7  post  \n",
       "3  1.706452e+09  t3_1ad3si6  post  \n",
       "4  1.706448e+09  t3_1ad2m64  post  "
      ]
     },
     "execution_count": 11,
     "metadata": {},
     "output_type": "execute_result"
    }
   ],
   "source": [
    "new_data = pd.DataFrame(posts_dict)\n",
    "new_data.head()"
   ]
  },
  {
   "cell_type": "markdown",
   "metadata": {},
   "source": [
    "- checking `subreddit` column for shenanigans"
   ]
  },
  {
   "cell_type": "code",
   "execution_count": 12,
   "metadata": {},
   "outputs": [
    {
     "data": {
      "text/plain": [
       "array([Subreddit(display_name='AskScienceFiction'),\n",
       "       Subreddit(display_name='askscience')], dtype=object)"
      ]
     },
     "execution_count": 12,
     "metadata": {},
     "output_type": "execute_result"
    }
   ],
   "source": [
    "new_data[\"subreddit\"].unique()  \n",
    "# initially, these labels were just strings that matched the subreddit name\n",
    "# for some reason they switched to become a `Subreddit(display_name='{subreddit name}')`???"
   ]
  },
  {
   "cell_type": "code",
   "execution_count": 13,
   "metadata": {},
   "outputs": [
    {
     "data": {
      "text/plain": [
       "array(['askscience', 'space', 'AskScienceFiction'], dtype=object)"
      ]
     },
     "execution_count": 13,
     "metadata": {},
     "output_type": "execute_result"
    }
   ],
   "source": [
    "old_data[\"subreddit\"].unique()"
   ]
  },
  {
   "cell_type": "code",
   "execution_count": 14,
   "metadata": {},
   "outputs": [
    {
     "data": {
      "text/plain": [
       "array(['AskScienceFiction', 'askscience'], dtype=object)"
      ]
     },
     "execution_count": 14,
     "metadata": {},
     "output_type": "execute_result"
    }
   ],
   "source": [
    "# ¯\\_(ツ)_/¯  changing all the subreddit labels to be the same format\n",
    "for subreddit in subreddits:\n",
    "    new_data[\"subreddit\"] = np.where(new_data[\"subreddit\"] == subreddit, subreddit, new_data[\"subreddit\"])\n",
    "new_data[\"subreddit\"].unique()"
   ]
  },
  {
   "cell_type": "markdown",
   "metadata": {},
   "source": [
    "## Combine new data with older data"
   ]
  },
  {
   "cell_type": "code",
   "execution_count": 15,
   "metadata": {},
   "outputs": [
    {
     "data": {
      "text/plain": [
       "(2812, 6)"
      ]
     },
     "execution_count": 15,
     "metadata": {},
     "output_type": "execute_result"
    }
   ],
   "source": [
    "updated_df = pd.concat([old_data, new_data])\n",
    "updated_df.shape"
   ]
  },
  {
   "cell_type": "code",
   "execution_count": 16,
   "metadata": {},
   "outputs": [
    {
     "data": {
      "text/plain": [
       "array(['askscience', 'space', 'AskScienceFiction'], dtype=object)"
      ]
     },
     "execution_count": 16,
     "metadata": {},
     "output_type": "execute_result"
    }
   ],
   "source": [
    "updated_df[\"subreddit\"].unique()"
   ]
  },
  {
   "cell_type": "markdown",
   "metadata": {},
   "source": [
    "## Check for duplicates\n",
    "- the `name` field is unique to each subreddit\n",
    "- there are definitely duplicates from one subreddit to another but should not be dupes within a given subreddit\n",
    "- might decide to let the duplicates stay if there's an imbalance among the subreddits and the dupes are in the under-represented group\n",
    "    - 1/21/24 added 6 duplicates to the \"askscience\" subreddit\n",
    "    - 1/22 added 2 more duplicates to \"askscience\"\n",
    "    - 1/26 added 2 more to \"askscience\"\n",
    "- `name` for comments is always `None` so any duplicates that appear will only be in posts"
   ]
  },
  {
   "cell_type": "code",
   "execution_count": 17,
   "metadata": {},
   "outputs": [
    {
     "data": {
      "text/plain": [
       "{'askscience': 10}"
      ]
     },
     "execution_count": 17,
     "metadata": {},
     "output_type": "execute_result"
    }
   ],
   "source": [
    "modeling_reporting.find_duplicates(updated_df)"
   ]
  },
  {
   "cell_type": "markdown",
   "metadata": {},
   "source": [
    "### Check `updated_df` for any issues before saving it"
   ]
  },
  {
   "cell_type": "code",
   "execution_count": 18,
   "metadata": {},
   "outputs": [
    {
     "data": {
      "text/plain": [
       "subreddit\n",
       "AskScienceFiction    1193\n",
       "space                 875\n",
       "askscience            744\n",
       "Name: count, dtype: int64"
      ]
     },
     "execution_count": 18,
     "metadata": {},
     "output_type": "execute_result"
    }
   ],
   "source": [
    "updated_df[\"subreddit\"].value_counts()"
   ]
  },
  {
   "cell_type": "code",
   "execution_count": 19,
   "metadata": {},
   "outputs": [
    {
     "data": {
      "text/plain": [
       "title             0\n",
       "selftext       1107\n",
       "subreddit         0\n",
       "created_utc       0\n",
       "name              0\n",
       "type              0\n",
       "dtype: int64"
      ]
     },
     "execution_count": 19,
     "metadata": {},
     "output_type": "execute_result"
    }
   ],
   "source": [
    "updated_df.isna().sum()"
   ]
  },
  {
   "cell_type": "code",
   "execution_count": 20,
   "metadata": {},
   "outputs": [
    {
     "data": {
      "text/plain": [
       "{'askscience': 115, 'space': 720, 'AskScienceFiction': 272}"
      ]
     },
     "execution_count": 20,
     "metadata": {},
     "output_type": "execute_result"
    }
   ],
   "source": [
    "# a lot of the posts, especially in the \"space\" subreddit are just a title and a URL, without any `selftext`\n",
    "modeling_reporting.find_null_selftext(updated_df)"
   ]
  },
  {
   "cell_type": "markdown",
   "metadata": {},
   "source": [
    "----\n",
    "## Look into lack of new posts in \"space\" subreddit\n",
    "- I noticed I wasn't getting any new posts from the \"space\" subreddit in the last few days, even though it looked like there were new posts when I looked at the site\n",
    "- So I removed the \"before\" param and fetched what I could get & will remove duplicates manually"
   ]
  },
  {
   "cell_type": "code",
   "execution_count": 21,
   "metadata": {},
   "outputs": [
    {
     "data": {
      "text/plain": [
       "851"
      ]
     },
     "execution_count": 21,
     "metadata": {},
     "output_type": "execute_result"
    }
   ],
   "source": [
    "# initially used this to get the latest post but it didn't return any new posts so left it out of the call\n",
    "latest_space = max(old_data.loc[old_data[\"subreddit\"] == \"space\"][\"name\"])\n",
    "\n",
    "space = reddit.subreddit(\"space\").new(limit=None)  # this will definitely have some overlap with data I already have\n",
    "space_dict = reddit_utilities.extract_posts([space])\n",
    "len(space_dict)"
   ]
  },
  {
   "cell_type": "code",
   "execution_count": 24,
   "metadata": {},
   "outputs": [
    {
     "data": {
      "text/plain": [
       "(1726, 6)"
      ]
     },
     "execution_count": 24,
     "metadata": {},
     "output_type": "execute_result"
    }
   ],
   "source": [
    "old_space = updated_df.loc[updated_df[\"subreddit\"] == \"space\"]\n",
    "all_space = pd.concat([old_space, pd.DataFrame.from_dict(space_dict)])\n",
    "all_space[\"subreddit\"] = \"space\"  # fixing that subreddit label thing\n",
    "all_space.shape"
   ]
  },
  {
   "cell_type": "code",
   "execution_count": 25,
   "metadata": {},
   "outputs": [
    {
     "data": {
      "text/plain": [
       "{'space': 769}"
      ]
     },
     "execution_count": 25,
     "metadata": {},
     "output_type": "execute_result"
    }
   ],
   "source": [
    "modeling_reporting.find_duplicates(all_space)"
   ]
  },
  {
   "cell_type": "markdown",
   "metadata": {},
   "source": [
    "- I definitely have to get rid of the duplicates but this says only 769 of the 1,726 rows were duplicated. I don't know why using the \"before\" or \"after\" param didn't pull in data from this subreddit but leaving it out DID get more data. Weird but good for my project."
   ]
  },
  {
   "cell_type": "code",
   "execution_count": 27,
   "metadata": {},
   "outputs": [
    {
     "data": {
      "text/plain": [
       "(957, 6)"
      ]
     },
     "execution_count": 27,
     "metadata": {},
     "output_type": "execute_result"
    }
   ],
   "source": [
    "all_space = all_space.drop_duplicates(subset=[\"name\"])\n",
    "all_space.shape"
   ]
  },
  {
   "cell_type": "markdown",
   "metadata": {},
   "source": [
    "- obviously going to check the other subreddits to see if I can get more out of them too"
   ]
  },
  {
   "cell_type": "code",
   "execution_count": 30,
   "metadata": {},
   "outputs": [
    {
     "name": "stdout",
     "output_type": "stream",
     "text": [
      "665\n"
     ]
    },
    {
     "data": {
      "text/plain": [
       "(1409, 6)"
      ]
     },
     "execution_count": 30,
     "metadata": {},
     "output_type": "execute_result"
    }
   ],
   "source": [
    "new_science = reddit.subreddit(\"askscience\").new(limit=None)\n",
    "science_dict = reddit_utilities.extract_posts([new_science])\n",
    "print(len(science_dict))\n",
    "\n",
    "old_science = updated_df.loc[updated_df[\"subreddit\"] == \"askscience\"]\n",
    "all_science = pd.concat([old_science, pd.DataFrame.from_dict(science_dict)])\n",
    "all_science[\"subreddit\"] = \"askscience\"  # fixing that subreddit label thing\n",
    "all_science.shape"
   ]
  },
  {
   "cell_type": "code",
   "execution_count": 31,
   "metadata": {},
   "outputs": [
    {
     "name": "stdout",
     "output_type": "stream",
     "text": [
      "duplicates to get rid of: {'askscience': 672}\n"
     ]
    },
    {
     "data": {
      "text/plain": [
       "(737, 6)"
      ]
     },
     "execution_count": 31,
     "metadata": {},
     "output_type": "execute_result"
    }
   ],
   "source": [
    "print(f\"duplicates to get rid of: {modeling_reporting.find_duplicates(all_science)}\")\n",
    "all_science = all_science.drop_duplicates(subset=[\"name\"])\n",
    "all_science.shape"
   ]
  },
  {
   "cell_type": "code",
   "execution_count": 34,
   "metadata": {},
   "outputs": [
    {
     "name": "stdout",
     "output_type": "stream",
     "text": [
      "996\n"
     ]
    },
    {
     "data": {
      "text/plain": [
       "(2189, 6)"
      ]
     },
     "execution_count": 34,
     "metadata": {},
     "output_type": "execute_result"
    }
   ],
   "source": [
    "new_scifi = reddit.subreddit(\"AskScienceFiction\").new(limit=None)\n",
    "scifi_dict = reddit_utilities.extract_posts([new_scifi])\n",
    "print(len(scifi_dict))\n",
    "\n",
    "old_scifi = updated_df.loc[updated_df[\"subreddit\"] == \"AskScienceFiction\"]\n",
    "all_scifi = pd.concat([old_scifi, pd.DataFrame.from_dict(scifi_dict)])\n",
    "all_scifi[\"subreddit\"] = \"AskScienceFiction\"  # fixing that subreddit label thing\n",
    "all_scifi.shape"
   ]
  },
  {
   "cell_type": "code",
   "execution_count": 35,
   "metadata": {},
   "outputs": [
    {
     "name": "stdout",
     "output_type": "stream",
     "text": [
      "duplicates to get rid of: {'AskScienceFiction': 989}\n"
     ]
    },
    {
     "data": {
      "text/plain": [
       "(1200, 6)"
      ]
     },
     "execution_count": 35,
     "metadata": {},
     "output_type": "execute_result"
    }
   ],
   "source": [
    "print(f\"duplicates to get rid of: {modeling_reporting.find_duplicates(all_scifi)}\")\n",
    "all_scifi = all_scifi.drop_duplicates(subset=[\"name\"])\n",
    "all_scifi.shape"
   ]
  },
  {
   "cell_type": "code",
   "execution_count": 36,
   "metadata": {},
   "outputs": [
    {
     "data": {
      "text/plain": [
       "subreddit\n",
       "AskScienceFiction    1093\n",
       "space                 875\n",
       "askscience            718\n",
       "Name: count, dtype: int64"
      ]
     },
     "execution_count": 36,
     "metadata": {},
     "output_type": "execute_result"
    }
   ],
   "source": [
    "old_data[\"subreddit\"].value_counts()"
   ]
  },
  {
   "cell_type": "code",
   "execution_count": 38,
   "metadata": {},
   "outputs": [
    {
     "data": {
      "text/plain": [
       "subreddit\n",
       "AskScienceFiction    1193\n",
       "space                 875\n",
       "askscience            744\n",
       "Name: count, dtype: int64"
      ]
     },
     "execution_count": 38,
     "metadata": {},
     "output_type": "execute_result"
    }
   ],
   "source": [
    "updated_df[\"subreddit\"].value_counts()"
   ]
  },
  {
   "cell_type": "code",
   "execution_count": 37,
   "metadata": {},
   "outputs": [
    {
     "data": {
      "text/plain": [
       "subreddit\n",
       "AskScienceFiction    1200\n",
       "space                 957\n",
       "askscience            737\n",
       "Name: count, dtype: int64"
      ]
     },
     "execution_count": 37,
     "metadata": {},
     "output_type": "execute_result"
    }
   ],
   "source": [
    "really_updated_df = pd.concat([all_science, all_space, all_scifi])\n",
    "really_updated_df[\"subreddit\"].value_counts()"
   ]
  },
  {
   "cell_type": "markdown",
   "metadata": {},
   "source": [
    "- the increase in \"AskScienceFiction\" is probably just because it's been a few minutes since I pulled that data & there have been a few more posts to that topic in that time\n",
    "- the decrease in \"askscience\" is because I already had 10 duplicates in that subreddit and I've just gotten rid of any duplicates -- so I got three new posts and removed 10 dupes I already had, net -7 posts\n",
    "- still don't know why the \"space\" subreddit wasn't getting updates with the `before` param but it's nice to have a few dozen more posts"
   ]
  },
  {
   "cell_type": "markdown",
   "metadata": {},
   "source": [
    "## Save updated post data to csv"
   ]
  },
  {
   "cell_type": "code",
   "execution_count": 39,
   "metadata": {},
   "outputs": [],
   "source": [
    "really_updated_df.to_csv(\"data/raw_posts.csv\", index=False)"
   ]
  },
  {
   "cell_type": "markdown",
   "metadata": {},
   "source": [
    "----\n",
    "## Initial data pull\n",
    "- putting this at the end because I only used this code the first time I fetched from each subreddit\n",
    "- also kind of a restart when I decided to use comments as well as just posts"
   ]
  },
  {
   "cell_type": "code",
   "execution_count": null,
   "metadata": {},
   "outputs": [],
   "source": [
    "subreddits = [\"AskScienceFiction\", \"space\", \"askscience\"]\n",
    "\n",
    "listing_gens = []\n",
    "\n",
    "for subreddit in subreddits:\n",
    "    listing_gens.append(reddit.subreddit(subreddit).new(limit=None))"
   ]
  },
  {
   "cell_type": "code",
   "execution_count": null,
   "metadata": {},
   "outputs": [],
   "source": [
    "listing_gens"
   ]
  },
  {
   "cell_type": "code",
   "execution_count": null,
   "metadata": {},
   "outputs": [],
   "source": [
    "# this isn't exactly my initial data pull, from which I only extracted posts\n",
    "#  this is the first batch to extract both posts & comments\n",
    "#  commented out the post extraction part of the function the first time through to just get comments\n",
    "posts = reddit_utilities.extract_posts(listing_gens)"
   ]
  },
  {
   "cell_type": "code",
   "execution_count": null,
   "metadata": {},
   "outputs": [],
   "source": [
    "len(posts)"
   ]
  },
  {
   "cell_type": "code",
   "execution_count": null,
   "metadata": {},
   "outputs": [],
   "source": [
    "start_df = pd.DataFrame(posts)\n",
    "start_df.head()"
   ]
  },
  {
   "cell_type": "code",
   "execution_count": null,
   "metadata": {},
   "outputs": [],
   "source": [
    "start_df.shape"
   ]
  },
  {
   "cell_type": "markdown",
   "metadata": {},
   "source": [
    "----\n",
    "## Notes & other exploratory stuff\n",
    "- most of this is also represented above but in this section I'm keeping some notes and some of my trial-and-error processing, which may be useful to my future self"
   ]
  },
  {
   "cell_type": "markdown",
   "metadata": {},
   "source": [
    "### Getting comments out of posts\n",
    "- wanted to increase the number of documents in my dataset\n",
    "- basics from the [praw tutorial](https://praw.readthedocs.io/en/stable/tutorials/comments.html)\n",
    "- also got some assistance from Benjamin Wolff with the code to fetch the comments"
   ]
  },
  {
   "cell_type": "code",
   "execution_count": null,
   "metadata": {},
   "outputs": [],
   "source": [
    "# fetch a bunch of posts, not limited to those since we last checked\n",
    "science_posts = reddit.subreddit(\"askscience\").new(limit=10)\n",
    "\n",
    "comments = []\n",
    "\n",
    "for post in science_posts:\n",
    "    post.comments.replace_more(limit=None)\n",
    "    for comment in post.comments.list()[:2]:\n",
    "        comments.append({\n",
    "            \"title\": post.title,\n",
    "            \"selftext\": comment.body,\n",
    "            \"created_utc\": post.created_utc,\n",
    "            \"subreddit\": \"askscience\",\n",
    "            \"name\": None,  # using the post's `name` to identify duplicates so not using that here\n",
    "            \"type\": \"comment\"\n",
    "        })"
   ]
  },
  {
   "cell_type": "code",
   "execution_count": null,
   "metadata": {},
   "outputs": [],
   "source": [
    "len(comments)"
   ]
  },
  {
   "cell_type": "markdown",
   "metadata": {},
   "source": [
    "### Starter code\n",
    "- mostly from Eric's praw walkthrough on 1/18"
   ]
  },
  {
   "cell_type": "code",
   "execution_count": null,
   "metadata": {},
   "outputs": [],
   "source": [
    "space = \"space\"\n",
    "space_posts = reddit.subreddit(space).new(limit=None)\n",
    "\n",
    "science = \"askscience\"\n",
    "science_posts = reddit.subreddit(science).new(limit=None)  # set limit to None to get the max\n",
    "type(science_posts)  # have to iterate through this \"ListingGenerator\" to get at the stuff, can't access by index with []"
   ]
  },
  {
   "cell_type": "markdown",
   "metadata": {},
   "source": [
    "- that generator is a queue, once you've iterated through it, it's empty"
   ]
  },
  {
   "cell_type": "markdown",
   "metadata": {},
   "source": [
    "- now that you've printed the stuff, `science_posts` is empty\n",
    "- `post` is still available though, the last one in the queue"
   ]
  },
  {
   "cell_type": "code",
   "execution_count": null,
   "metadata": {},
   "outputs": [],
   "source": [
    "posts_list = []"
   ]
  },
  {
   "cell_type": "code",
   "execution_count": null,
   "metadata": {},
   "outputs": [],
   "source": [
    "for post in science_posts:\n",
    "    posts_list.append({\n",
    "        \"title\": post.title,\n",
    "        \"selftext\": post.selftext,\n",
    "        \"subreddit\": post.subreddit,\n",
    "        \"created_utc\": post.created_utc,\n",
    "        \"name\": post.name\n",
    "    })\n",
    "\n",
    "    # check out praw docs for what's available: https://praw.readthedocs.io/en/stable/code_overview/models/submission.html#praw.models.Submission"
   ]
  },
  {
   "cell_type": "markdown",
   "metadata": {},
   "source": [
    "### Add params to get posts before/after what you already have"
   ]
  },
  {
   "cell_type": "code",
   "execution_count": null,
   "metadata": {},
   "outputs": [],
   "source": [
    "# see docs on ListingGenerator, which tells you you can add `params` dictionary\n",
    "# also see reddit api docs to know what can go in your `params`: https://www.reddit.com/dev/api/\n",
    "science_posts = reddit.subreddit(science).new(limit=10, params={\"after\": \"t3_197iuy3\"}) # this is the last \"name\" in our current data\n",
    "# the submissions is like a stack so \"after\" is lower in the stack (older) & \"before\" is higher in the stack (newer)\n",
    "# if you want comments, check out praw's tutorial: https://praw.readthedocs.io/en/stable/tutorials/comments.html"
   ]
  },
  {
   "cell_type": "markdown",
   "metadata": {},
   "source": [
    "- playing with the `name` field, before I tried just sorting it as it is...which worked just fine"
   ]
  },
  {
   "cell_type": "code",
   "execution_count": null,
   "metadata": {},
   "outputs": [],
   "source": [
    "# from the reddit docs, the starting chars in `name` refer to its subreddit\n",
    "#  the rest is its unique identifier within that subreddit as an base36 int\n",
    "df[\"name_base36\"] = df[\"name\"].str[3:]"
   ]
  },
  {
   "cell_type": "code",
   "execution_count": null,
   "metadata": {},
   "outputs": [],
   "source": [
    "# can I convert that to an int which I could then sort?\n",
    "df[\"name_base36\"] = [ int(number, 36) for number in df[\"name_base36\"]]"
   ]
  }
 ],
 "metadata": {
  "kernelspec": {
   "display_name": "ga-lessons",
   "language": "python",
   "name": "python3"
  },
  "language_info": {
   "codemirror_mode": {
    "name": "ipython",
    "version": 3
   },
   "file_extension": ".py",
   "mimetype": "text/x-python",
   "name": "python",
   "nbconvert_exporter": "python",
   "pygments_lexer": "ipython3",
   "version": "3.11.5"
  }
 },
 "nbformat": 4,
 "nbformat_minor": 2
}
